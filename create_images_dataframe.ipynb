{
 "cells": [
  {
   "cell_type": "code",
   "execution_count": 1,
   "metadata": {},
   "outputs": [
    {
     "name": "stderr",
     "output_type": "stream",
     "text": [
      "could not find stamp in environment variables\n",
      "could not find stamp in environment variables\n",
      "could not find KUBEFLOW_API_BASIC_AUTH_TOKEN in environment variables\n",
      "could not find AI_RABBITMQ_CONNECTION_STRING in environment variables\n",
      "could not find AI_MONGO_DB_CONNECTION_STRING in environment variables\n",
      "could not find TARANIS_DB_CONNECTION_STRING in environment variables\n",
      "could not find GLOBAL_DB_CONNECTION_STRING in environment variables\n",
      "could not find AI_MONGO_DB_CONNECTION_STRING_NEW in environment variables\n"
     ]
    }
   ],
   "source": [
    "import os\n",
    "import glob\n",
    "import pandas as pd\n",
    "import numpy as np\n",
    "from tqdm import tqdm\n",
    "import warnings\n",
    "os.environ[\"NAMESPACE\"]=\"research\"\n",
    "os.environ[\"PROFILE\"]=\"local\"\n",
    "from agrobrain_util.runtime.evironment import RuntimeEnv\n",
    "from agrobrain_util.infra.app_config import application_config as cfg\n",
    "import matplotlib.pyplot as plt\n",
    "\n",
    "\n",
    "env = RuntimeEnv()\n",
    "categories_dict = cfg['tags']['categories']"
   ]
  },
  {
   "attachments": {},
   "cell_type": "markdown",
   "metadata": {},
   "source": [
    "# Create images dataframe"
   ]
  },
  {
   "cell_type": "code",
   "execution_count": 2,
   "metadata": {},
   "outputs": [],
   "source": [
    "# READ ORDERS CSV FROM JIRA DATA\n",
    "orders_csv_2022_path = '/mnt/disks/datasets/wide_images/us_2022_emergence_analysis_jira.csv'\n",
    "orders_df = pd.read_csv(orders_csv_2022_path)\n",
    "orders_df = orders_df.dropna(subset=['Order ID'])\n",
    "orders_df['Order ID'] = orders_df['Order ID'].astype(int)\n",
    "orders_list = list(orders_df['Order ID'])"
   ]
  },
  {
   "cell_type": "code",
   "execution_count": 3,
   "metadata": {},
   "outputs": [
    {
     "data": {
      "text/plain": [
       "5544"
      ]
     },
     "execution_count": 3,
     "metadata": {},
     "output_type": "execute_result"
    }
   ],
   "source": [
    "len(orders_list)"
   ]
  },
  {
   "cell_type": "code",
   "execution_count": 3,
   "metadata": {},
   "outputs": [],
   "source": [
    "# CREATE SUB DF FOR EXPERIMENTS\n",
    "orders_df = orders_df.head(20)\n",
    "orders_list = list(orders_df['Order ID'])"
   ]
  },
  {
   "cell_type": "code",
   "execution_count": 4,
   "metadata": {},
   "outputs": [
    {
     "name": "stderr",
     "output_type": "stream",
     "text": [
      "100%|██████████| 20/20 [00:07<00:00,  2.79it/s]\n"
     ]
    }
   ],
   "source": [
    "# ADD IMAGES DATA BY ORDER ID FROM ETI\n",
    "\n",
    "example_images_df = env.eti_api.get_images_data_by_orderid(orders_list[0])['images']\n",
    "images_df = pd.DataFrame(columns=example_images_df[0].keys())\n",
    "\n",
    "folder_dir = '/mnt/disks/datasets/wide_images/images_df_folder_1'\n",
    "os.makedirs(folder_dir, exist_ok=True)\n",
    "with warnings.catch_warnings():\n",
    "    warnings.filterwarnings(\"ignore\", category=FutureWarning)\n",
    "    for i, order in enumerate(tqdm(orders_list)):\n",
    "        order_df = pd.DataFrame(env.eti_api.get_images_data_by_orderid(order)['images'])\n",
    "        images_df = pd.concat([images_df, order_df], axis='rows', ignore_index=True)\n",
    "        if len(images_df) > 500:\n",
    "            images_df.to_csv(f\"/mnt/disks/datasets/wide_images/images_df_folder_1/images_df_{i}.csv\")\n",
    "            images_df = pd.DataFrame(columns=example_images_df[0].keys())\n",
    "    images_df.to_csv(f\"/mnt/disks/datasets/wide_images/images_df_folder_1/images_df_{i}.csv\")"
   ]
  },
  {
   "cell_type": "code",
   "execution_count": 25,
   "metadata": {},
   "outputs": [],
   "source": [
    "# CONCAT SMALL DATAFRAMES (SAVED IN .PY?) TO ONE IMAGE_DF AND SAVE TO CSV\n",
    "folders_path = '/mnt/disks/datasets/wide_images/images_df_folder_1'\n",
    "csv_list = glob.glob(os.path.join(folders_path, \"*.csv\"))\n",
    "im_df = pd.DataFrame()\n",
    "for csv in tqdm(csv_list):\n",
    "    df = pd.read_csv(csv)\n",
    "    im_df = pd.concat([im_df, df], axis='rows', ignore_index=True)\n",
    "im_df.to_csv('/mnt/disks/datasets/wide_images/images_df.csv')"
   ]
  },
  {
   "attachments": {},
   "cell_type": "markdown",
   "metadata": {},
   "source": [
    "# Read images dataframe, add features and save"
   ]
  },
  {
   "cell_type": "code",
   "execution_count": 4,
   "metadata": {},
   "outputs": [],
   "source": [
    "images_df = pd.read_csv('/mnt/disks/datasets/wide_images/images_df.csv')\n"
   ]
  },
  {
   "cell_type": "code",
   "execution_count": 5,
   "metadata": {},
   "outputs": [
    {
     "data": {
      "text/plain": [
       "568514"
      ]
     },
     "execution_count": 5,
     "metadata": {},
     "output_type": "execute_result"
    }
   ],
   "source": [
    "len(images_df)"
   ]
  },
  {
   "cell_type": "code",
   "execution_count": 5,
   "metadata": {},
   "outputs": [
    {
     "data": {
      "text/plain": [
       "Index(['Unnamed: 0.1', 'Unnamed: 0', 'imageID', 'identifier', 'parcelID',\n",
       "       'snapshotDate', 'timeGps', 'uploadDate', 'fieldID', 'cropID',\n",
       "       'flightID', 'clientID', 'heightAboveGround', 'quality', 'lat', 'lon',\n",
       "       'flag', 'healthy', 'expertReview', 'taggerReview', 'taggerDone',\n",
       "       'autoDone', 'blackList', 'hasTiles', 'format', 'height', 'width',\n",
       "       'focalLength', 'deleted', 'comment', 'stats', 'stamp', 'plantReport',\n",
       "       'orderID', 'cameraFileName', 'ignored', 'flightTargetHeight',\n",
       "       'cameraDegree', 'contrast', 'brightness', 'sharpness', 'typeId',\n",
       "       'groupUUID', 'cameraModel', 'footprintArea', 'footprintGeography',\n",
       "       'objectDistance', 'cameraAngle', 'tagsLastVersion', 'imgUrl',\n",
       "       'fieldName', 'farmID', 'farmName', 'clientName', 'fieldGeojson',\n",
       "       'cropName'],\n",
       "      dtype='object')"
      ]
     },
     "execution_count": 5,
     "metadata": {},
     "output_type": "execute_result"
    }
   ],
   "source": [
    "images_df.columns"
   ]
  },
  {
   "cell_type": "code",
   "execution_count": 5,
   "metadata": {},
   "outputs": [],
   "source": [
    "images_df = images_df.head(20)"
   ]
  },
  {
   "cell_type": "code",
   "execution_count": null,
   "metadata": {},
   "outputs": [],
   "source": [
    "# ADD \"NUM WEED TAGS\" TO IMAGES_DF AND SAVE\n",
    "images_df[\"num_weed_tags\"] = None\n",
    "for i, im_id in tqdm(enumerate(images_df[\"imageID\"])):\n",
    "    image_stats_list = eval(images_df['stats'][i])\n",
    "    image_weed_tags_count = 0\n",
    "    for cat in image_stats_list:\n",
    "        if cat['category'] == categories_dict['weed']:\n",
    "            image_weed_tags_count += cat['tagsCount']\n",
    "    images_df.loc[images_df['imageID'] == im_id, \"num_weed_tags\"] = image_weed_tags_count\n",
    "print(\"saving csv\")\n",
    "images_df.to_csv(\"/mnt/disks/datasets/wide_images/images_df_new.csv\")"
   ]
  },
  {
   "attachments": {},
   "cell_type": "markdown",
   "metadata": {},
   "source": [
    "# Checkups"
   ]
  },
  {
   "cell_type": "code",
   "execution_count": 2,
   "metadata": {},
   "outputs": [],
   "source": [
    "full_im_df = pd.read_csv(\"/mnt/disks/datasets/wide_images/images_df_new.csv\")"
   ]
  },
  {
   "cell_type": "code",
   "execution_count": 9,
   "metadata": {},
   "outputs": [
    {
     "data": {
      "text/plain": [
       "5544"
      ]
     },
     "execution_count": 9,
     "metadata": {},
     "output_type": "execute_result"
    }
   ],
   "source": [
    "len(np.unique(orders_list))"
   ]
  },
  {
   "cell_type": "code",
   "execution_count": 7,
   "metadata": {},
   "outputs": [
    {
     "name": "stdout",
     "output_type": "stream",
     "text": [
      "There are 5541 orders in im_df and 5544 orders in orders_list\n"
     ]
    }
   ],
   "source": [
    "# CHECK WHAT ORDERS ARE IN \"ORDERS_LIST\" AND NOT IN \"IMAGE_DF\"\n",
    "\n",
    "print(f\"There are {len(np.unique(full_im_df['orderID']))} orders in im_df and {len(orders_list)} orders in orders_list\")\n",
    "orders_list_from_im_df = np.unique(full_im_df['orderID'])\n",
    "not_in_im_df = set(orders_list) - set(orders_list_from_im_df)\n",
    "not_in_im_df = list(not_in_im_df)"
   ]
  },
  {
   "cell_type": "code",
   "execution_count": null,
   "metadata": {},
   "outputs": [],
   "source": [
    "orders_df[orders_df['Too Early'].isna()]"
   ]
  },
  {
   "cell_type": "code",
   "execution_count": 20,
   "metadata": {},
   "outputs": [
    {
     "data": {
      "text/plain": [
       "48     85.0\n",
       "494    28.0\n",
       "789     0.0\n",
       "Name: # Of Images, dtype: float64"
      ]
     },
     "execution_count": 20,
     "metadata": {},
     "output_type": "execute_result"
    }
   ],
   "source": [
    "orders_df[orders_df['Order ID'].isin(not_in_im_df)]['# Of Images']"
   ]
  },
  {
   "cell_type": "code",
   "execution_count": 13,
   "metadata": {},
   "outputs": [
    {
     "data": {
      "text/plain": [
       "Index(['Order ID', 'Country', 'Key', 'Crop', '# Of Images', 'Status',\n",
       "       'Finish Uploading Time', 'Sensor System', 'Emergence - Accuracy',\n",
       "       'Emergence - Link To Report', 'Emergence - Model Name',\n",
       "       'Emergence - Precision', 'Emergence - Recall',\n",
       "       'Algo - Emergence Labels', 'Resend Reasons', 'Scheduled Flight Date',\n",
       "       'Summary', '# of images tagged fully automatically (final)',\n",
       "       '# of images tagged manually (final)',\n",
       "       '# of images tagged fully automatically', 'QC Tool Link',\n",
       "       'QC Tool Priority', 'Is QC Tool Operation', 'Labels', 'Customer Type',\n",
       "       'Ignore AI Filter', '% Auto', '% Auto Cum', 'Analyzed', 'comment',\n",
       "       'Too Early', 'Date'],\n",
       "      dtype='object')"
      ]
     },
     "execution_count": 13,
     "metadata": {},
     "output_type": "execute_result"
    }
   ],
   "source": [
    "orders_df[orders_df['Order ID'].isin(not_in_im_df)].columns"
   ]
  },
  {
   "attachments": {},
   "cell_type": "markdown",
   "metadata": {},
   "source": [
    "# Experiments - delete after"
   ]
  },
  {
   "cell_type": "code",
   "execution_count": null,
   "metadata": {},
   "outputs": [],
   "source": [
    "# GET WEEDS CATEGOTY ID\n",
    "categories_hierarchy = env.eti_api.get_categories_hierarchy()\n",
    "for i in range(len(categories_hierarchy)):\n",
    "    print(f\"index {i}, category: {categories_hierarchy[i]['id']}\")\n",
    "\n",
    "# GET LIST OF SUBCATEGORIES IDS\n",
    "weeds_subcategories_ids = [categories_hierarchy[9]['subCategories'][i]['id'] for i in range(len(categories_hierarchy[9]['subCategories']))]\n",
    "weeds_subcategories_ids"
   ]
  },
  {
   "cell_type": "code",
   "execution_count": null,
   "metadata": {},
   "outputs": [],
   "source": [
    "categories_hierarchy[9]['subCategories']"
   ]
  },
  {
   "cell_type": "code",
   "execution_count": 3,
   "metadata": {},
   "outputs": [],
   "source": [
    "images_df = full_im_df"
   ]
  },
  {
   "cell_type": "code",
   "execution_count": 30,
   "metadata": {},
   "outputs": [
    {
     "data": {
      "text/plain": [
       "True"
      ]
     },
     "execution_count": 30,
     "metadata": {},
     "output_type": "execute_result"
    }
   ],
   "source": [
    "eval(images_df['stats'][6])[0]['category'] == categories_dict['weed']"
   ]
  },
  {
   "cell_type": "code",
   "execution_count": 25,
   "metadata": {},
   "outputs": [
    {
     "data": {
      "text/plain": [
       "1"
      ]
     },
     "execution_count": 25,
     "metadata": {},
     "output_type": "execute_result"
    }
   ],
   "source": [
    "len(eval(images_df['stats'][19]))"
   ]
  },
  {
   "cell_type": "code",
   "execution_count": 4,
   "metadata": {},
   "outputs": [
    {
     "data": {
      "text/plain": [
       "int"
      ]
     },
     "execution_count": 4,
     "metadata": {},
     "output_type": "execute_result"
    }
   ],
   "source": [
    "type(categories_dict['weed'])"
   ]
  },
  {
   "cell_type": "code",
   "execution_count": 7,
   "metadata": {},
   "outputs": [
    {
     "data": {
      "text/plain": [
       "568514"
      ]
     },
     "execution_count": 7,
     "metadata": {},
     "output_type": "execute_result"
    }
   ],
   "source": [
    "len(images_df)"
   ]
  },
  {
   "cell_type": "code",
   "execution_count": 8,
   "metadata": {},
   "outputs": [],
   "source": [
    "images_df = images_df.head(100)"
   ]
  },
  {
   "cell_type": "code",
   "execution_count": 6,
   "metadata": {},
   "outputs": [
    {
     "name": "stderr",
     "output_type": "stream",
     "text": [
      "100%|██████████| 568514/568514 [02:45<00:00, 3438.64it/s]\n"
     ]
    }
   ],
   "source": [
    "# CREATE COLUMNS: \"WEED_TYPES_IDS_LIST\", \"AREAPERCENTAGE\", \"INFERENCETAGSCOUNT\" AND SAVE IMAGES_DATAFRAME\n",
    "\n",
    "images_df[\"weed_types_ids_list\"] = None\n",
    "images_df[\"weed_areaPercentage\"] = None\n",
    "images_df[\"weed_inferenceTagsCount\"] = None\n",
    "\n",
    "\n",
    "for i, im_id in enumerate(tqdm(images_df[\"imageID\"])):\n",
    "    image_stats_list = eval(images_df.loc[i, 'stats'])\n",
    "    weed_types_ids_list = []\n",
    "    areaPercentage = []\n",
    "    inferenceTagsCount = []\n",
    "    for cat in image_stats_list:\n",
    "        if cat['category'] == categories_dict['weed']:\n",
    "            weed_types_ids_list.append(cat['subCategory'])\n",
    "            areaPercentage.append(cat['areaPercentage'])\n",
    "            inferenceTagsCount.append(cat['inferenceTagsCount'])\n",
    "    images_df.loc[i, \"weed_types_ids_list\"] = str(weed_types_ids_list)\n",
    "    images_df.loc[i, \"weed_areaPercentage\"] = str(areaPercentage)\n",
    "    images_df.loc[i, \"weed_inferenceTagsCount\"] = str(inferenceTagsCount)\n",
    "\n",
    "# FILTER DATAFRAME - TAKE ONLY IMAGES THAT HAVE WEEDS (AT LEAST ONE WITH CATEGORY 5)\n",
    "weeds_images_df = images_df[images_df['weed_types_ids_list'].apply(lambda x: len(eval(x)) > 0)].reset_index(drop=True)\n",
    "weeds_images_df.to_csv(\"/mnt/disks/datasets/wide_images/weeds_images_df.csv\")\n",
    "weeds_images_df['weed_types_ids_list'] = weeds_images_df['weed_types_ids_list'].apply(eval)\n"
   ]
  },
  {
   "cell_type": "code",
   "execution_count": 25,
   "metadata": {},
   "outputs": [],
   "source": [
    "# READ WEEDS IMAGES DF\n",
    "weeds_images_df = pd.read_csv(\"/mnt/disks/datasets/wide_images/weeds_images_df.csv\")\n",
    "weeds_images_df['weed_types_ids_list'] = weeds_images_df['weed_types_ids_list'].apply(eval)"
   ]
  },
  {
   "cell_type": "code",
   "execution_count": 50,
   "metadata": {},
   "outputs": [],
   "source": [
    "def create_cat_dict(cat_list):\n",
    "    cat_dict_types = {}\n",
    "    cat_dict_names = {}\n",
    "    for l in cat_list:\n",
    "        cat_dict_types[l['id']] = l['type']\n",
    "        if 'name' in l:\n",
    "            cat_dict_names[l['id']] = l['name']\n",
    "        else:\n",
    "            cat_dict_names[l['id']] = 'NoName'\n",
    "    return cat_dict_types, cat_dict_names\n",
    "cat_dict_types, cat_dict_names = create_cat_dict(categories_hierarchy[9]['subCategories'])\n",
    "\n",
    "unique_weed_types, count_unique_weed_types = np.unique(weeds_images_df['weed_types_ids_list'].explode(), return_counts=True)\n",
    "top_weed_types = unique_weed_types[np.argsort(count_unique_weed_types)[-5:]]\n",
    "top_weed_types_names = [cat_dict_names[id] for id in top_weed_types]\n",
    "# print(top_weed_types_names)"
   ]
  },
  {
   "cell_type": "code",
   "execution_count": 47,
   "metadata": {},
   "outputs": [
    {
     "data": {
      "text/plain": [
       "array([0, 141, 156, 158, 166, 186, 188, 194, 211, 212, 215, 224, 252, 260,\n",
       "       272, 351, 368, 379, 393, 418, 429, 465, 466, 467, 510, 657, 827,\n",
       "       858, 951, 1695, 1737], dtype=object)"
      ]
     },
     "execution_count": 47,
     "metadata": {},
     "output_type": "execute_result"
    }
   ],
   "source": [
    "unique_weed_types"
   ]
  },
  {
   "cell_type": "code",
   "execution_count": 42,
   "metadata": {},
   "outputs": [
    {
     "data": {
      "text/plain": [
       "array([     9,    204,      2, 278760,      1,      2,     26,      2,\n",
       "         1829, 186816,      1,      1,      1,      2,      1,      7,\n",
       "            5,      5,      2,      6,     11,      2, 110765,      5,\n",
       "            1,     16,      1,      2,      1,      1,      8])"
      ]
     },
     "execution_count": 42,
     "metadata": {},
     "output_type": "execute_result"
    }
   ],
   "source": [
    "count_unique_weed_types"
   ]
  },
  {
   "cell_type": "code",
   "execution_count": 53,
   "metadata": {},
   "outputs": [
    {
     "data": {
      "text/plain": [
       "array([466, 212, 158], dtype=object)"
      ]
     },
     "execution_count": 53,
     "metadata": {},
     "output_type": "execute_result"
    }
   ],
   "source": [
    "unique_weed_types[np.argsort(count_unique_weed_types)[-3:]]"
   ]
  },
  {
   "cell_type": "code",
   "execution_count": 41,
   "metadata": {},
   "outputs": [
    {
     "data": {
      "image/png": "[encoded data removed]",
      "text/plain": [
       "<Figure size 640x480 with 1 Axes>"
      ]
     },
     "metadata": {},
     "output_type": "display_data"
    }
   ],
   "source": [
    "bar_width = 50\n",
    "plt.bar(unique_weed_types, count_unique_weed_types, width=bar_width)\n",
    "plt.xlabel('Unique Values')\n",
    "plt.ylabel('Counts')\n",
    "plt.show()"
   ]
  }
 ],
 "metadata": {
  "kernelspec": {
   "display_name": "Python 3",
   "language": "python",
   "name": "python3"
  },
  "language_info": {
   "codemirror_mode": {
    "name": "ipython",
    "version": 3
   },
   "file_extension": ".py",
   "mimetype": "text/x-python",
   "name": "python",
   "nbconvert_exporter": "python",
   "pygments_lexer": "ipython3",
   "version": "3.8.10"
  },
  "orig_nbformat": 4
 },
 "nbformat": 4,
 "nbformat_minor": 2
}

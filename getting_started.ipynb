{
 "cells": [
  {
   "cell_type": "code",
   "execution_count": null,
   "metadata": {},
   "outputs": [],
   "source": [
    "import os\n",
    "import numpy as np\n",
    "import pandas as pd\n",
    "os.environ[\"NAMESPACE\"]=\"research\"\n",
    "os.environ[\"PROFILE\"]=\"local\"\n",
    "from agrobrain_util.runtime.evironment import RuntimeEnv\n",
    "from skimage import io\n",
    "import matplotlib.pyplot as plt\n",
    "import json\n",
    "import random\n",
    "import glob\n",
    "import cv2\n"
   ]
  },
  {
   "cell_type": "code",
   "execution_count": null,
   "metadata": {},
   "outputs": [],
   "source": [
    "env = RuntimeEnv()\n",
    "im = env.get_image(7006651).astype('float32')"
   ]
  },
  {
   "cell_type": "code",
   "execution_count": null,
   "metadata": {},
   "outputs": [],
   "source": [
    "order_ids_2022_path = \"/mnt/disks/datasets/wide_images/order_ids_season_2022.json\"\n",
    "with open(order_ids_2022_path) as file:\n",
    "    order_ids = json.load(file)[0]"
   ]
  },
  {
   "cell_type": "code",
   "execution_count": null,
   "metadata": {},
   "outputs": [],
   "source": [
    "example_orderid = random.sample(order_ids, 1)[0]\n",
    "\n",
    "im_list = env.eti_api.get_image_list_by_orderid(example_orderid, [2])\n",
    "example_image_id = random.sample(im_list, 1)[0]\n",
    "\n",
    "im_path = env.download_image(example_image_id)\n",
    "image = io.imread(im_path)\n",
    "\n",
    "plt.imshow(image)\n",
    "plt.show()"
   ]
  },
  {
   "cell_type": "code",
   "execution_count": null,
   "metadata": {},
   "outputs": [],
   "source": [
    "# DISPLAY IMAGES IN \"IMAGES\" FOLDER (DOWNLOADED)\n",
    "import math\n",
    "\n",
    "ncols = 2\n",
    "nrows = math.ceil(len(images_paths_list)/ncols)\n",
    "fig, axes = plt.subplots(nrows=nrows, ncols=ncols)\n",
    "\n",
    "print(ncols, nrows)\n",
    "\n",
    "for i, ax in enumerate(axes.flat):\n",
    "    if i < len(images_paths_list)-1:\n",
    "        img = io.imread(images_paths_list[i])\n",
    "        # ax.imshow(img, extent=[0, 500, 500, 0])\n",
    "        ax.imshow(img)\n",
    "        # ax.imshow(img, extent=[0, img.shape[1]*2, img.shape[0]*2, 0])\n",
    "        ax.set_title(f\"Plot {i+1}\")\n",
    "        ax.set_xticks([])\n",
    "        ax.set_yticks([])\n",
    "\n",
    "fig.tight_layout()\n",
    "# fig.set_size_inches(200, 120)\n",
    "plt.show()"
   ]
  },
  {
   "cell_type": "code",
   "execution_count": null,
   "metadata": {},
   "outputs": [],
   "source": [
    "image.shape"
   ]
  },
  {
   "cell_type": "code",
   "execution_count": null,
   "metadata": {},
   "outputs": [],
   "source": [
    "# PLOT HISTOGRAMS\n",
    "\n",
    "red_channel = image[:, :, 0].ravel()\n",
    "green_channel = image[:, :, 1].ravel()\n",
    "blue_channel = image[:, :, 2].ravel()\n",
    "\n",
    "fig, axs = plt.subplots(1, 3, figsize=(12, 4))\n",
    "axs[0].hist(red_channel, bins=256, color='red')\n",
    "axs[0].set_title('Red Channel')\n",
    "axs[1].hist(green_channel, bins=256, color='green')\n",
    "axs[1].set_title('Green Channel')\n",
    "axs[2].hist(blue_channel, bins=256, color='blue')\n",
    "axs[2].set_title('Blue Channel')\n",
    "\n",
    "plt.show()"
   ]
  },
  {
   "cell_type": "code",
   "execution_count": null,
   "metadata": {},
   "outputs": [],
   "source": [
    "# APPLYING CANNY EDGE DETECTOR\n",
    "\n",
    "t_lower = 70\n",
    "t_upper = 200\n",
    "  \n",
    "edge = cv2.Canny(image, t_lower, t_upper)\n",
    "fig, axes = plt.subplots(nrows=1, ncols=2)\n",
    "axes[0].imshow(image, extent=[0, 100, 0, 100])\n",
    "axes[1].imshow(edge, extent=[0, 100, 0, 100], cmap='gray')\n",
    "\n",
    "for ax in axes:\n",
    "    ax.set_xticks([])\n",
    "    ax.set_yticks([])\n",
    "fig.set_size_inches(10, 5)\n",
    "plt.show()"
   ]
  },
  {
   "cell_type": "code",
   "execution_count": null,
   "metadata": {},
   "outputs": [],
   "source": [
    "# THRESHOLDING THE IMAGE BY BRIGHTNESS VALUE\n",
    "\n",
    "th_list = [80, 100, 120]\n",
    "gray_img = cv2.cvtColor(image, cv2.COLOR_BGR2GRAY)\n",
    "fig, axes = plt.subplots(nrows=1, ncols=len(th_list))\n",
    "\n",
    "for i in range(len(th_list)):\n",
    "    _, thresholded_img = cv2.threshold(gray_img, th_list[i], 255, cv2.THRESH_BINARY)\n",
    "    thresholded_img = cv2.cvtColor(thresholded_img, cv2.COLOR_BGR2RGB)\n",
    "    axes[i].imshow(thresholded_img, extent=[0, 100, 0, 100])\n",
    "\n",
    "for ax in axes:\n",
    "    ax.set_xticks([])\n",
    "    ax.set_yticks([])\n",
    "fig.set_size_inches(20, 10)\n",
    "plt.show()"
   ]
  },
  {
   "cell_type": "code",
   "execution_count": null,
   "metadata": {},
   "outputs": [],
   "source": [
    "# TRYING TO DRAW HOUGH LINES \n",
    "\n",
    "_, thresholded_img = cv2.threshold(gray_img, th_list[0], 255, cv2.THRESH_BINARY)\n",
    "thresholded_img = cv2.cvtColor(thresholded_img, cv2.COLOR_BGR2RGB)\n",
    "\n",
    "gray = cv2.cvtColor(thresholded_img, cv2.COLOR_BGR2GRAY)\n",
    "\n",
    "edges = cv2.Canny(gray, threshold1=100, threshold2=150)\n",
    "\n",
    "# Apply Hough transform for line detection\n",
    "# lines = cv2.HoughLines(edges, rho=150, theta=np.pi/180, threshold=250)\n",
    "lines = cv2.HoughLines(edges, rho=80, theta=2, threshold=50)\n",
    "\n",
    "print(len(lines))\n",
    "# print(lines)\n",
    "\n",
    "# Draw the detected lines on the input image\n",
    "for line in lines:\n",
    "    rho, theta = line[0]\n",
    "    a = np.cos(theta)\n",
    "    b = np.sin(theta)\n",
    "    x0 = a * rho\n",
    "    y0 = b * rho\n",
    "    x1 = int(x0 + 1000 * (-b))\n",
    "    y1 = int(y0 + 1000 * (a))\n",
    "    x2 = int(x0 - 1000 * (-b))\n",
    "    y2 = int(y0 - 1000 * (a))\n",
    "    cv2.line(thresholded_img, (x1, y1), (x2, y2), (0, 0, 255), 8)\n",
    "\n",
    "# img_rgb = cv2.cvtColor(image, cv2.COLOR_BGR2RGB)\n",
    "# Display the result\n",
    "plt.imshow(thresholded_img)\n",
    "plt.show()"
   ]
  },
  {
   "attachments": {},
   "cell_type": "markdown",
   "metadata": {},
   "source": [
    "# Get mages data"
   ]
  },
  {
   "cell_type": "code",
   "execution_count": null,
   "metadata": {},
   "outputs": [],
   "source": [
    "downloaded_images_path = \"images\"\n",
    "images_paths_list = glob.glob(os.path.join(downloaded_images_path, \"*.jpg\"))\n",
    "\n",
    "img_ids_list = [int(os.path.basename(im_path).replace('.jpg', '')) for im_path in images_paths_list]\n"
   ]
  },
  {
   "cell_type": "code",
   "execution_count": null,
   "metadata": {},
   "outputs": [],
   "source": [
    "example_image_id = img_ids_list[10]"
   ]
  },
  {
   "cell_type": "code",
   "execution_count": null,
   "metadata": {},
   "outputs": [],
   "source": [
    "# images_data = pd.DataFrame(env.eti_api.get_images_data(img_ids_list)['images'])\n",
    "# env.get_image_metadata(1000)"
   ]
  },
  {
   "cell_type": "code",
   "execution_count": null,
   "metadata": {},
   "outputs": [],
   "source": [
    "# env.eti_api.get_images_data([example_image_id])\n",
    "env.eti_api.get_images_data([example_image_id], type_ids=[2])['images'][0]['typeId']\n"
   ]
  },
  {
   "cell_type": "code",
   "execution_count": null,
   "metadata": {},
   "outputs": [],
   "source": [
    "pd.DataFrame(images_data['fields'])"
   ]
  }
 ],
 "metadata": {
  "kernelspec": {
   "display_name": "Python 3",
   "language": "python",
   "name": "python3"
  },
  "language_info": {
   "codemirror_mode": {
    "name": "ipython",
    "version": 3
   },
   "file_extension": ".py",
   "mimetype": "text/x-python",
   "name": "python",
   "nbconvert_exporter": "python",
   "pygments_lexer": "ipython3",
   "version": "3.8.10"
  },
  "orig_nbformat": 4
 },
 "nbformat": 4,
 "nbformat_minor": 2
}

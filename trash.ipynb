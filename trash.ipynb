{
 "cells": [
  {
   "attachments": {},
   "cell_type": "markdown",
   "metadata": {},
   "source": [
    "# Create images DataFrame"
   ]
  },
  {
   "cell_type": "code",
   "execution_count": null,
   "metadata": {},
   "outputs": [],
   "source": [
    "# CREATE IMAGES DATAFRAME FROM ORDERS DATAFRAME AND DATA FROM ETI - BY IMAGE LIST\n",
    "\n",
    "images_df = pd.DataFrame()\n",
    "images_df[\"Order ID\"] = orders_df[\"Order ID\"]\n",
    "images_df[\"images_list\"] = orders_df[\"Order ID\"].apply(env.eti_api.get_image_list_by_orderid)\n",
    "\n",
    "images_df = pd.concat([orders_df.set_index('Order ID'),\n",
    "                       images_df.set_index('Order ID')], axis=1, join='inner').reset_index()\n",
    "\n",
    "images_df = images_df.explode('images_list').rename(columns={'images_list': 'Image_ID'}).reset_index(drop=True)\n",
    "\n",
    "# images_data = images_df[\"Image_ID\"].apply(env.eti_api.get_image_list_by_orderid)\n"
   ]
  },
  {
   "cell_type": "code",
   "execution_count": null,
   "metadata": {},
   "outputs": [],
   "source": [
    "# ADD IMAGES DATA BY ORDER ID FROM ETI (without splitting list of orders)\n",
    "\n",
    "import tqdm.notebook as tq\n",
    "import warnings\n",
    "example_images_df = env.eti_api.get_images_data_by_orderid(orders_list[0])['images']\n",
    "images_df = pd.DataFrame(columns=example_images_df[0].keys())\n",
    "with warnings.catch_warnings():\n",
    "    warnings.filterwarnings(\"ignore\", category=FutureWarning)\n",
    "    for order in tq.tqdm(orders_list, leave=False):\n",
    "        order_df = pd.DataFrame(env.eti_api.get_images_data_by_orderid(order)['images'])\n",
    "        images_df = pd.concat([images_df, order_df], axis='rows', ignore_index=True)"
   ]
  },
  {
   "attachments": {},
   "cell_type": "markdown",
   "metadata": {},
   "source": [
    "# Data exploration"
   ]
  },
  {
   "cell_type": "code",
   "execution_count": null,
   "metadata": {},
   "outputs": [],
   "source": [
    "env.eti_api.get_categories_hierarchy()"
   ]
  },
  {
   "cell_type": "code",
   "execution_count": null,
   "metadata": {},
   "outputs": [],
   "source": [
    "# SHOW RANDOM IMAGE FROM THE DATAFRAME\n",
    "\n",
    "example_image_id = random.sample(list(top_weeds_df['imageID']), 1)[0]\n",
    "image_data = top_weeds_df[top_weeds_df['imageID'] == example_image_id].reset_index()\n",
    "image_num_tags = image_data.at[0, 'num_weed_tags']\n",
    "image_crop_name = image_data.at[0, 'cropName']\n",
    "\n",
    "im_path = env.download_image(example_image_id)\n",
    "image = io.imread(im_path)\n",
    "\n",
    "plt.imshow(image)\n",
    "plt.title(f\"Image ID: {example_image_id}\\nCrop Type: {image_crop_name}, Weed Tags: {image_num_tags}\")\n",
    "plt.show()"
   ]
  },
  {
   "cell_type": "code",
   "execution_count": null,
   "metadata": {},
   "outputs": [],
   "source": [
    "wide_im_path = env.download_image(matching_wide_image_id)\n",
    "wide_image = io.imread(wide_im_path)\n",
    "\n",
    "plt.imshow(wide_image)\n",
    "plt.show()"
   ]
  },
  {
   "cell_type": "code",
   "execution_count": null,
   "metadata": {},
   "outputs": [],
   "source": [
    "# ADD WIDE IMAGE_ID TO EACH ZOOM IMAGE\n",
    "example_wide_image = env.eti_api.get_matching_wide_images([7275584])\n",
    "# wide_images = env.eti_api.get_matching_wide_images(list(top_weeds_df['imageID']))\n",
    "wide_im_path = env.download_image(example_wide_image[0])\n",
    "wide_image = io.imread(wide_im_path)\n",
    "\n",
    "plt.imshow(wide_image)\n",
    "plt.show()"
   ]
  },
  {
   "cell_type": "code",
   "execution_count": null,
   "metadata": {},
   "outputs": [],
   "source": [
    "# ADD WIDE IMAGE_ID TO EACH ZOOM IMAGE\n",
    "example_wide_image = env.eti_api.get_matching_wide_images([7275584])\n",
    "# wide_images = env.eti_api.get_matching_wide_images(list(top_weeds_df['imageID']))\n",
    "wide_im_path = env.download_image(example_wide_image[0])\n",
    "wide_image = io.imread(wide_im_path)\n",
    "\n",
    "plt.imshow(wide_image)\n",
    "plt.show()"
   ]
  },
  {
   "cell_type": "code",
   "execution_count": null,
   "metadata": {},
   "outputs": [],
   "source": [
    "# VIEW AND FIND INFORMATION ABOUT NUMBER OF WEED TAGS IN THE IMAGES\n",
    "images_with_weeds_df = images_df[images_df['num_weed_tags']]\n",
    "print(len(images_with_weeds_df))\n",
    "plt.hist(images_with_weeds_df['num_weed_tags'], bins=100)\n",
    "plt.show()"
   ]
  },
  {
   "cell_type": "code",
   "execution_count": null,
   "metadata": {},
   "outputs": [],
   "source": [
    "plt.hist(filtered_images_df['cameraAngle'], bins=100)\n",
    "plt.show()"
   ]
  },
  {
   "cell_type": "code",
   "execution_count": null,
   "metadata": {},
   "outputs": [],
   "source": [
    "plt.hist(images_df['cameraAngle'], bins=100)\n",
    "plt.show()"
   ]
  },
  {
   "cell_type": "code",
   "execution_count": null,
   "metadata": {},
   "outputs": [],
   "source": [
    "# images_with_the_most_weeds_tags['num_weed_tags']\n",
    "plt.hist(top_weeds_soy['num_weed_tags'], bins=100)\n",
    "plt.show()"
   ]
  },
  {
   "cell_type": "code",
   "execution_count": null,
   "metadata": {},
   "outputs": [],
   "source": [
    "images_df.columns"
   ]
  },
  {
   "cell_type": "code",
   "execution_count": null,
   "metadata": {},
   "outputs": [],
   "source": [
    "example_orderid = random.sample(orders_list, 1)[0]\n",
    "\n",
    "im_list = env.eti_api.get_image_list_by_orderid(example_orderid, [2])\n",
    "example_image_id = random.sample(im_list, 1)[0]\n",
    "\n",
    "im_path = env.download_image(example_image_id)\n",
    "image = io.imread(im_path)\n",
    "\n",
    "plt.imshow(image)\n",
    "plt.show()"
   ]
  },
  {
   "cell_type": "code",
   "execution_count": null,
   "metadata": {},
   "outputs": [],
   "source": [
    "categories_hierarchy = env.eti_api.get_categories_hierarchy()\n"
   ]
  },
  {
   "cell_type": "code",
   "execution_count": null,
   "metadata": {},
   "outputs": [],
   "source": [
    "for i in range(len(categories_hierarchy)):\n",
    "    print(f\"{i}, category: {categories_hierarchy[i]['id']}\")"
   ]
  },
  {
   "cell_type": "code",
   "execution_count": null,
   "metadata": {},
   "outputs": [],
   "source": [
    "# ADD CATEGORIES NAME AND TYPES TO IMAGES DATAFRAME\n",
    "\n",
    "def create_cat_dict(cat_list):\n",
    "    cat_dict_types = {}\n",
    "    cat_dict_names = {}\n",
    "    for l in cat_list:\n",
    "        if 'type' in l:\n",
    "            cat_dict_types[l['id']] = l['type']\n",
    "        else:\n",
    "            cat_dict_types[l['id']] = 'NoType'\n",
    "        if 'name' in l:\n",
    "            cat_dict_names[l['id']] = l['name']\n",
    "        else:\n",
    "            cat_dict_names[l['id']] = 'NoName'\n",
    "    return cat_dict_types, cat_dict_names\n",
    "\n",
    "\n",
    "\n",
    "def get_weed_subcategory_name_by_subcategory_id(types_ids_list):\n",
    "    types_ids_list = eval(types_ids_list)\n",
    "    print(types_ids_list)\n",
    "    cat_dict_types, cat_dict_names = create_cat_dict(categories_hierarchy[9]['subCategories'])\n",
    "    names_list = []\n",
    "    types_list = []\n",
    "    print(len(types_ids_list))\n",
    "    for i in range(len(types_ids_list)):\n",
    "        print(cat_dict_names[types_ids_list[i]])\n",
    "        names_list.append(cat_dict_names[types_ids_list[i]])\n",
    "        types_list.append(cat_dict_types[types_ids_list[i]])\n",
    "\n",
    "    \n",
    "    \n",
    "    # weed_subcategories = categories_hierarchy[9]['subCategories']\n",
    "    # names_list = []\n",
    "    # for i in range(len(types_ids_list)):\n",
    "    #     for j in range(len(weed_subcategories)):\n",
    "    #         if weed_subcategories[j]['id'] == types_ids_list[i]:\n",
    "    #             names_list.append(weed_subcategories[j]['name'])\n",
    "\n",
    "    # if len(names_list) != len(types_ids_list):\n",
    "        # raise Exception(\"names_list and types_ids_list lengths are different\")\n",
    "    return names_list\n",
    "\n",
    "images_df[images_df['weed_types_ids_list'].apply(get_weed_subcategory_name_by_subcategory_id)]\n",
    "# print(images_df[images_df['weed_types_ids_list'].apply(get_weed_subcategory_name_by_subcategory_id)])\n",
    "# images_df['weed_types_list'] = images_df[images_df['weed_types_ids_list'].apply(get_weed_subcategory_name_by_subcategory_id)]"
   ]
  },
  {
   "cell_type": "code",
   "execution_count": null,
   "metadata": {},
   "outputs": [],
   "source": [
    "images_df = pd.read_csv(\"/mnt/disks/datasets/wide_images/images_df_new_1.csv\")\n",
    "unique_weed_types = np.unique(images_df['weed_types_dict'].explode(), return_counts=True)"
   ]
  },
  {
   "cell_type": "code",
   "execution_count": null,
   "metadata": {},
   "outputs": [],
   "source": []
  }
 ],
 "metadata": {
  "language_info": {
   "name": "python"
  },
  "orig_nbformat": 4
 },
 "nbformat": 4,
 "nbformat_minor": 2
}

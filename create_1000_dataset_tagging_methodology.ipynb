{
 "cells": [
  {
   "cell_type": "code",
   "execution_count": 2,
   "metadata": {},
   "outputs": [
    {
     "name": "stderr",
     "output_type": "stream",
     "text": [
      "could not find stamp in environment variables\n",
      "could not find stamp in environment variables\n",
      "could not find KUBEFLOW_API_BASIC_AUTH_TOKEN in environment variables\n",
      "could not find AI_RABBITMQ_CONNECTION_STRING in environment variables\n",
      "could not find AI_MONGO_DB_CONNECTION_STRING in environment variables\n",
      "could not find TARANIS_DB_CONNECTION_STRING in environment variables\n",
      "could not find GLOBAL_DB_CONNECTION_STRING in environment variables\n",
      "could not find AI_MONGO_DB_CONNECTION_STRING_NEW in environment variables\n"
     ]
    }
   ],
   "source": [
    "import os\n",
    "import numpy as np\n",
    "import pandas as pd\n",
    "os.environ[\"NAMESPACE\"]=\"research\"\n",
    "os.environ[\"PROFILE\"]=\"local\"\n",
    "from agrobrain_util.runtime.evironment import RuntimeEnv\n",
    "from agrobrain_util.infra.app_config import application_config as cfg\n",
    "\n",
    "import shutil\n",
    "import glob\n",
    "from skimage import io\n",
    "import matplotlib.pyplot as plt\n",
    "import json\n",
    "import random\n",
    "import glob\n",
    "import datetime\n",
    "from tqdm import tqdm\n",
    "from datetime import datetime\n",
    "\n",
    "from PIL import Image\n",
    "\n",
    "\n",
    "env = RuntimeEnv()\n",
    "categories_dict = cfg['tags']['categories']\n",
    "\n",
    "DATA_DIR = \"data\"\n",
    "IMAGE_DIR = \"images\"\n",
    "\n",
    "\n",
    "def get_wide_images_list(current_df):\n",
    "    l  = []\n",
    "    for i in tqdm(range(0, len(current_df['imageID']), 10)):\n",
    "        # print(current_df['imageID'][i])\n",
    "        wide_image_id = env.eti_api.get_matching_wide_images(list(current_df['imageID'][i:i+10]))\n",
    "        # print(wide_image_id)\n",
    "        l.append(wide_image_id)\n",
    "    wide_images_list = [item for sublist in l for item in sublist]\n",
    "    return wide_images_list\n",
    "\n",
    "def create_cat_dict(cat_list):\n",
    "    cat_dict_types = {}\n",
    "    cat_dict_names = {}\n",
    "    for l in cat_list:\n",
    "        cat_dict_types[l['id']] = l['type']\n",
    "        if 'name' in l:\n",
    "            cat_dict_names[l['id']] = l['name']\n",
    "        else:\n",
    "            cat_dict_names[l['id']] = 'NoName'\n",
    "    cat_dict_types[0] = None\n",
    "    cat_dict_names[0] = None\n",
    "    return cat_dict_types, cat_dict_names\n",
    "\n",
    "categories_hierarchy = env.eti_api.get_categories_hierarchy()\n",
    "cat_dict_types, cat_dict_names = create_cat_dict(categories_hierarchy[9]['subCategories'])"
   ]
  },
  {
   "cell_type": "markdown",
   "metadata": {},
   "source": [
    "# Read and create datasets"
   ]
  },
  {
   "cell_type": "code",
   "execution_count": null,
   "metadata": {},
   "outputs": [],
   "source": [
    "# IMAGES DF - ALL THE IMAGES THAT CONTAINS WEEDS\n",
    "\n",
    "weeds_images_df = pd.read_csv(os.path.join(DATA_DIR, \"weeds_images_df_light.csv\"))\n",
    "\n",
    "weeds_images_df['weed_types_ids_list'] = weeds_images_df['weed_types_ids_list'].apply(eval)\n",
    "weeds_images_df['uploadDate_time'] = weeds_images_df['uploadDate'].apply(datetime.fromtimestamp)\n",
    "weeds_images_df['uploadDate_date'] = weeds_images_df['uploadDate_time'].apply(lambda x: x.to_pydatetime().date())\n",
    "filtered_weeds_images_df = weeds_images_df[(weeds_images_df['cameraAngle'] > -95) & (weeds_images_df['cameraAngle'] < -85)]\n",
    "images_df = filtered_weeds_images_df\n",
    "weeds_images_df = 0\n",
    "filtered_weeds_images_df = 0"
   ]
  },
  {
   "cell_type": "code",
   "execution_count": null,
   "metadata": {},
   "outputs": [],
   "source": [
    "# CREATE \"TOP WEEDS DF\" - FILTER DF AND TAKE THE MOST PROBABLE IMAGES (TO CONTAIN WEEDS) FROM EACH CROP \n",
    "\n",
    "\n",
    "NUM_OF_IMAGES_FROM_EACH_CROP = 200\n",
    "\n",
    "top_weeds_corn = images_df[images_df['cropName']=='Corn'].nlargest(NUM_OF_IMAGES_FROM_EACH_CROP, 'num_weed_tags')\n",
    "top_weeds_soy = images_df[images_df['cropName']=='Soybean'].nlargest(NUM_OF_IMAGES_FROM_EACH_CROP, 'num_weed_tags')\n",
    "top_weeds_df = pd.concat([top_weeds_corn, top_weeds_soy], axis='rows', ignore_index=True)\n",
    "\n",
    "# top_weeds_df['wideImageID'] = env.eti_api.get_matching_wide_images(list(top_weeds_df['imageID']))\n",
    "# top_weeds_df['wideImageID'] = top_weeds_df['wideImageID'].fillna(-1).astype(int)\n",
    "\n",
    "top_weeds_df.to_csv(os.path.join(DATA_DIR, f\"top_weeds_df_to_each_crop_type_{NUM_OF_IMAGES_FROM_EACH_CROP}_images_from_each.csv\"))\n"
   ]
  },
  {
   "cell_type": "code",
   "execution_count": null,
   "metadata": {},
   "outputs": [],
   "source": [
    "images_df.columns"
   ]
  },
  {
   "cell_type": "code",
   "execution_count": null,
   "metadata": {},
   "outputs": [],
   "source": [
    "# CREATE \"SAMPLED DATAFRAME\" BY UNIFORM SAMPLING THE DISTRIBUTION OF \"NUM WEED TAGS\" - MANUALLY AND INFERENCE\n",
    "\n",
    "def get_sampled_df(current_df, name='', n=20):\n",
    "    weights_manual_tags = current_df['weed_manualTagsCount'] / current_df['weed_manualTagsCount'].sum()\n",
    "    weights_inference_tags = current_df['weed_inferenceTagsCount'] / current_df['weed_inferenceTagsCount'].sum()\n",
    "\n",
    "    sampled_df_manual = current_df.sample(n=n, weights=weights_manual_tags, replace=False).reset_index()\n",
    "    sampled_df_inference = current_df.sample(n=n, weights=weights_inference_tags, replace=False).reset_index()\n",
    "\n",
    "    sampled_df = pd.concat([sampled_df_manual, sampled_df_inference])\n",
    "    sampled_df['wideImageID'] = get_wide_images_list(sampled_df)\n",
    "\n",
    "    fig, axes = plt.subplots(nrows=1, ncols=2)\n",
    "    axes[0].hist(sampled_df['num_weed_tags'], bins = 200, color='c')\n",
    "    axes[0].set_title(f\"sampled {name} dataframe num_weed_tags\")\n",
    "\n",
    "    axes[1].hist(current_df['num_weed_tags'], bins = 200, color='c')\n",
    "    axes[1].set_title(f\"full {name} images dataframe num_weed_tags\")\n",
    "\n",
    "    fig.set_size_inches(10, 5)\n",
    "    plt.tight_layout()\n",
    "    plt.show()\n",
    "    return sampled_df\n",
    "\n",
    "\n",
    "N = 100\n",
    "\n",
    "# # images_df['weed_types_ids'] = images_df['weed_types_ids_list'].apply(lambda x: x[0])\n",
    "# images_df['weed_inferenceTagsCount'] = images_df['weed_inferenceTagsCount'].apply(eval)\n",
    "# images_df['weed_inferenceTagsCount'] = images_df['weed_inferenceTagsCount'].apply(lambda x: x[0])\n",
    "images_df['weed_manualTagsCount'] = images_df['num_weed_tags'] - images_df['weed_inferenceTagsCount']\n",
    "\n",
    "\n",
    "corn_df = images_df[images_df['cropName']=='Corn'].reset_index()\n",
    "corn_sampled_df = get_sampled_df(corn_df, name='corn', n=N)\n",
    "\n",
    "soy_df = images_df[images_df['cropName']=='Soybean'].reset_index()\n",
    "soy_sampled_df = get_sampled_df(soy_df, name='soy', n=N)\n",
    "\n",
    "sampled_df = pd.concat([corn_sampled_df, soy_sampled_df])\n",
    "\n",
    "sampled_df_csv_path = os.path.join(DATA_DIR, f\"sampled_df_by_crop_types_and_weight_sample_manual_and_inference_tag_count_{N}_from_each.csv\")\n",
    "sampled_df.to_csv(sampled_df_csv_path)"
   ]
  },
  {
   "cell_type": "code",
   "execution_count": null,
   "metadata": {},
   "outputs": [],
   "source": [
    "interesting_weed_df = pd.read_csv(os.path.join(DATA_DIR, \"interesting_weed_df.csv\"))\n",
    "images_to_drop_from_interesting_weed_df = [8980673, 8980669, 8980681, 8980665]\n",
    "interesting_weed_df = interesting_weed_df[~interesting_weed_df['imageID'].isin(images_to_drop_from_interesting_weed_df)]\n",
    "\n",
    "small_num_of_tags_df_soy = pd.read_csv(os.path.join(DATA_DIR, \"small_num_of_tags_df_soy.csv\"))\n",
    "small_num_of_tags_df_corn = pd.read_csv(os.path.join(DATA_DIR, \"small_num_of_tags_df_corn.csv\"))\n",
    "soy_with_volunteer_corn_df = pd.read_csv(os.path.join(DATA_DIR, \"soy_with_volunteer_corn_df_sorted.csv\"))\n",
    "corn_with_volunteer_corn_df = pd.read_csv(os.path.join(DATA_DIR, \"corn_with_volunteer_corn_df_sorted.csv\"))\n",
    "sampled_df = pd.read_csv(os.path.join(DATA_DIR, f\"sampled_df_by_crop_types_and_weight_sample_manual_and_inference_tag_count_100_from_each.csv\"))\n",
    "top_weeds_df = pd.read_csv(os.path.join(DATA_DIR, \"top_weeds_df_to_each_crop_type_200_images_from_each_with_wide.csv\"))\n",
    "\n",
    "len(interesting_weed_df), len(small_num_of_tags_df_soy), len(small_num_of_tags_df_corn), len(soy_with_volunteer_corn_df), len(corn_with_volunteer_corn_df), len(sampled_df), len(top_weeds_df)"
   ]
  },
  {
   "cell_type": "code",
   "execution_count": null,
   "metadata": {},
   "outputs": [],
   "source": [
    "# SAMPLE FROM THE SMALLER DATASETS AND SAVE\n",
    "\n",
    "small_num_of_tags_df_soy = pd.read_csv(os.path.join(DATA_DIR, \"small_num_of_tags_df_soy.csv\")).sample(50).reset_index(drop=True)\n",
    "small_num_of_tags_df_corn = pd.read_csv(os.path.join(DATA_DIR, \"small_num_of_tags_df_corn.csv\")).sample(50).reset_index(drop=True)\n",
    "soy_with_volunteer_corn_df = pd.read_csv(os.path.join(DATA_DIR, \"soy_with_volunteer_corn_df_sorted.csv\")).sample(50).reset_index(drop=True)\n",
    "corn_with_volunteer_corn_df = pd.read_csv(os.path.join(DATA_DIR, \"corn_with_volunteer_corn_df_sorted.csv\")).sample(50).reset_index(drop=True)\n",
    "sampled_df = pd.read_csv(os.path.join(DATA_DIR, f\"sampled_df_by_crop_types_and_weight_sample_manual_and_inference_tag_count_100_from_each.csv\"))\n",
    "top_weeds_df = pd.read_csv(os.path.join(DATA_DIR, \"top_weeds_df_to_each_crop_type_200_images_from_each_with_wide.csv\"))\n",
    "\n",
    "combined_df = pd.concat([top_weeds_df, sampled_df, soy_with_volunteer_corn_df, corn_with_volunteer_corn_df, small_num_of_tags_df_soy, small_num_of_tags_df_corn], ignore_index=True)\n",
    "combined_df.to_csv(os.path.join(DATA_DIR, \"1000_images_dataframe_for_tagging_methodology_task_2023_07_18.csv\"))"
   ]
  },
  {
   "cell_type": "code",
   "execution_count": null,
   "metadata": {},
   "outputs": [],
   "source": [
    "# SHOW ZOOM-WIDE COUPLE OF IMAGES FROM THE DATAFRAME\n",
    "\n",
    "# df_to_show = images_df.sample(10).reset_index(drop=True)\n",
    "df_to_show = small_num_of_tags_df_soy.sample(10).reset_index(drop=True)\n",
    "# df_to_show['wideImageID'] = get_wide_images_list(df_to_show)\n",
    "\n",
    "\n",
    "\n",
    "for i in range(len(df_to_show)):\n",
    "    example_image_id = df_to_show['imageID'][i]\n",
    "    # SHOW IMAGES\n",
    "    print(f\"Zoom image id: {example_image_id}\")\n",
    "    image_data = df_to_show[df_to_show['imageID'] == example_image_id].reset_index(drop=True)\n",
    "\n",
    "    # image_data = df_to_show[df_to_show['imageID'] == example_image_id]\n",
    "    matching_wide_image_id = int(image_data.at[0, 'wideImageID'])\n",
    "    print(f\"Wide image id: {matching_wide_image_id}\")\n",
    "    image_num_tags = image_data.at[0, 'num_weed_tags']\n",
    "\n",
    "    image_crop_name = image_data.at[0, 'cropName']\n",
    "    weed_types = image_data.at[0, 'weed_types_ids_list']\n",
    "    # weed_types = eval(image_data.at[0, 'weed_types_ids_list'])\n",
    "    weed_types = list(map(cat_dict_names.get, weed_types))\n",
    "\n",
    "\n",
    "    im_path = env.download_image(int(example_image_id))\n",
    "    image = io.imread(im_path)\n",
    "\n",
    "    wide_im_path = env.download_image(int(matching_wide_image_id))\n",
    "    wide_image = io.imread(wide_im_path)\n",
    "\n",
    "    fig, axes = plt.subplots(nrows=1, ncols=2)\n",
    "    axes[0].imshow(image, extent=[0, image.shape[1], 0, image.shape[0]])\n",
    "    axes[1].imshow(wide_image, extent=[0, wide_image.shape[1], 0, wide_image.shape[0]])\n",
    "\n",
    "\n",
    "    for ax in axes:\n",
    "        ax.set_xticks([])\n",
    "        ax.set_yticks([])\n",
    "    fig.set_size_inches(10, 5)\n",
    "    plt.suptitle(f\"Crop Type: {image_crop_name}\\nZoom Image ID: {example_image_id}, Wide Image ID: {matching_wide_image_id}\\nWeed types: {weed_types}\")\n",
    "    plt.tight_layout()\n",
    "    plt.show()\n"
   ]
  },
  {
   "cell_type": "markdown",
   "metadata": {},
   "source": [
    "# Download 1000 images to local machine "
   ]
  },
  {
   "cell_type": "code",
   "execution_count": 19,
   "metadata": {},
   "outputs": [],
   "source": [
    "combined_df = pd.read_csv(os.path.join(DATA_DIR, \"1000_images_dataframe_for_tagging_methodology_task_2023_07_18.csv\"))\n",
    "combined_df = combined_df.dropna(subset=['wideImageID'])\n",
    "wide_images_ids_list = list(combined_df['wideImageID'])"
   ]
  },
  {
   "cell_type": "code",
   "execution_count": 20,
   "metadata": {},
   "outputs": [],
   "source": [
    "# SAVE IMAGES IDS LIST TO OTHER USES\n",
    "infestation_1000_image_ids_json_file_path = os.path.join(DATA_DIR, \"infestation_1000_image_ids.json\")\n",
    "with open(infestation_1000_image_ids_json_file_path, \"w\") as json_file:\n",
    "    json.dump(wide_images_ids_list, json_file)"
   ]
  },
  {
   "cell_type": "code",
   "execution_count": null,
   "metadata": {},
   "outputs": [],
   "source": [
    "local_wide_images_path = combined_df['wideImageID'].astype(int).apply(env.download_image)"
   ]
  },
  {
   "cell_type": "code",
   "execution_count": null,
   "metadata": {},
   "outputs": [],
   "source": [
    "# MOVE THE IMAGES TO FOLDER \n",
    "destination_folder = os.path.join(IMAGE_DIR, \"1000_images_tagging_methodology_task_2023_07_18\")\n",
    "os.makedirs(destination_folder, exist_ok=True)\n",
    "for image_path in local_wide_images_path:\n",
    "    image_name = os.path.basename(image_path)\n",
    "    destination_path = os.path.join(destination_folder, image_name)\n",
    "    try:\n",
    "        shutil.move(image_path, destination_path)\n",
    "    except:\n",
    "        print(f\"problem with {image_path}\")"
   ]
  }
 ],
 "metadata": {
  "kernelspec": {
   "display_name": "Python 3",
   "language": "python",
   "name": "python3"
  },
  "language_info": {
   "codemirror_mode": {
    "name": "ipython",
    "version": 3
   },
   "file_extension": ".py",
   "mimetype": "text/x-python",
   "name": "python",
   "nbconvert_exporter": "python",
   "pygments_lexer": "ipython3",
   "version": "3.8.10"
  },
  "orig_nbformat": 4
 },
 "nbformat": 4,
 "nbformat_minor": 2
}

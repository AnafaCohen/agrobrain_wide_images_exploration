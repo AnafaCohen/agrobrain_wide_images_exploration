{
 "cells": [
  {
   "cell_type": "code",
   "execution_count": 23,
   "metadata": {},
   "outputs": [],
   "source": [
    "import pandas as pd\n",
    "import os\n",
    "import warnings\n",
    "from tqdm import tqdm\n",
    "from datetime import datetime\n",
    "import csv\n",
    "from skimage import io\n",
    "import matplotlib.pyplot as plt\n",
    "import numpy as np\n",
    "import glob\n",
    "import shutil\n",
    "\n",
    "\n",
    "\n",
    "\n",
    "os.environ['PROFILE'] = 'local'\n",
    "os.environ['NAMESPACE'] = 'production'\n",
    "\n",
    "from agrobrain_util.runtime.evironment import RuntimeEnv\n",
    "from agrobrain_util.infra.app_config import application_config as cfg\n",
    "from agrobrain_apis.atlas.atlas_api import get_metrics, DataQuery\n",
    "\n",
    "env = RuntimeEnv()\n",
    "categories_dict = cfg['tags']['categories']\n",
    "\n",
    "DATA_DIR = \"data\"\n",
    "IMAGES_DIR = \"images\""
   ]
  },
  {
   "cell_type": "code",
   "execution_count": 24,
   "metadata": {},
   "outputs": [],
   "source": [
    "import random\n",
    "n = 10000\n",
    "total_rows = sum(1 for line in open(os.path.join(DATA_DIR, \"anafa_tmp_wide_images_images_df.csv\")))\n",
    "skip_rows = sorted(random.sample(range(1, total_rows + 1), total_rows - n))\n",
    "# images_df = pd.read_csv(os.path.join(DATA_DIR, \"anafa_tmp_wide_images_images_df.csv\"), skiprows=skip_rows)\n",
    "\n",
    "# weeds_df = pd.read_csv(os.path.join(DATA_DIR, \"weeds_images_df_light.csv\"))\n",
    "# images_df = weeds_df\n",
    "\n",
    "top_weeds_df = pd.read_csv(os.path.join(DATA_DIR, \"filtered_weeds_df.csv\"))\n",
    "images_df = top_weeds_df\n",
    "\n",
    "\n",
    "# images_df = pd.read_csv(os.path.join(DATA_DIR, \"anafa_tmp_wide_images_images_df.csv\"), nrows=10000)"
   ]
  },
  {
   "cell_type": "code",
   "execution_count": 25,
   "metadata": {},
   "outputs": [
    {
     "name": "stderr",
     "output_type": "stream",
     "text": [
      "100%|██████████| 100/100 [00:00<00:00, 3461.48it/s]\n"
     ]
    }
   ],
   "source": [
    "# CALCULATE \"NUM WEED TAGS LIST\"\n",
    "# num_weed_tags_list = {}\n",
    "images_df[\"num_weed_tags_list\"] = None\n",
    "for i, im_id in enumerate(tqdm(images_df[\"imageID\"])):\n",
    "    image_stats_list = eval(images_df['stats'][i])\n",
    "    image_weed_tags_count = []\n",
    "    for cat in image_stats_list:\n",
    "        if cat['category'] == categories_dict['weed']:\n",
    "            image_weed_tags_count.append(cat['tagsCount'])\n",
    "    images_df.loc[images_df['imageID'] == im_id, \"num_weed_tags_list\"] = str(image_weed_tags_count)"
   ]
  },
  {
   "cell_type": "code",
   "execution_count": 6,
   "metadata": {},
   "outputs": [],
   "source": [
    "images_df['num_weed_tags'] = images_df['num_weed_tags_list'].apply(lambda x: sum(eval(x)))\n",
    "images_df = images_df[(images_df['cameraAngle'] > -95) & (images_df['cameraAngle'] < -85)].reset_index(drop=True)\n",
    "\n",
    "images_df_no_weeds = images_df[images_df['num_weed_tags'] == 0].reset_index(drop=True)"
   ]
  },
  {
   "cell_type": "code",
   "execution_count": null,
   "metadata": {},
   "outputs": [],
   "source": [
    "# # CHOOSING IMAGES FOR TAGGING \n",
    "\n",
    "# images_ids_to_dataset_no_weeds = [5346105, 7408611, 7408436, 7408601, 8633551, 5347319, 7411416]\n",
    "# images_ids_to_dataset_with_weeds = [7659514, 9664706, 6010828, 8243459, 5487061, 5446549, 7275950]\n",
    "\n",
    "# interesting_images = [6512128, 8699095, 'Zoom image id': 6433099, 'Wide image id': 6433827, 'Zoom image id': 6187517,\n",
    "# 'Wide image id': 6189546, 'Zoom image id': 6607048, 'Wide image id': 6609997]"
   ]
  },
  {
   "cell_type": "code",
   "execution_count": null,
   "metadata": {},
   "outputs": [],
   "source": [
    "\n",
    "# df_to_show = images_df.sample(10).reset_index(drop=True)\n",
    "df_to_show = images_df[:-10].reset_index(drop=True)\n",
    "\n",
    "\n",
    "for i in range(len(df_to_show)):\n",
    "    example_image_id = df_to_show['imageID'][i]\n",
    "    # SHOW IMAGES\n",
    "    print(f\"Zoom image id: {example_image_id}\")\n",
    "    image_data = df_to_show[df_to_show['imageID'] == example_image_id].reset_index(drop=True)\n",
    "\n",
    "    # image_data = df_to_show[df_to_show['imageID'] == example_image_id]\n",
    "    matching_wide_image_id = env.eti_api.get_matching_wide_images(list([int(image_data.at[0, 'imageID'])]))[0]\n",
    "\n",
    "    # images_df['wideImageID'] = env.eti_api.get_matching_wide_images(list(images_df['imageID']))\n",
    "\n",
    "    print(f\"Wide image id: {matching_wide_image_id}\")\n",
    "    image_num_tags = image_data.at[0, 'num_weed_tags']\n",
    "\n",
    "\n",
    "    image_crop_name = image_data.at[0, 'cropName']\n",
    "    im_path = env.download_image(int(example_image_id))\n",
    "    image = io.imread(im_path)\n",
    "\n",
    "    wide_im_path = env.download_image(int(matching_wide_image_id))\n",
    "    wide_image = io.imread(wide_im_path)\n",
    "\n",
    "    fig, axes = plt.subplots(nrows=1, ncols=2)\n",
    "    axes[0].imshow(image, extent=[0, image.shape[1], 0, image.shape[0]])\n",
    "    axes[1].imshow(wide_image, extent=[0, wide_image.shape[1], 0, wide_image.shape[0]])\n",
    "\n",
    "\n",
    "    for ax in axes:\n",
    "        ax.set_xticks([])\n",
    "        ax.set_yticks([])\n",
    "    fig.set_size_inches(10, 5)\n",
    "    plt.suptitle(f\"Crop Type: {image_crop_name}\\nZoom Image ID: {example_image_id}, Wide Image ID: {matching_wide_image_id}\\nNum Weed Tags: {image_num_tags}\")\n",
    "    plt.tight_layout()\n",
    "    plt.show()"
   ]
  },
  {
   "cell_type": "code",
   "execution_count": 8,
   "metadata": {},
   "outputs": [],
   "source": []
  },
  {
   "cell_type": "code",
   "execution_count": null,
   "metadata": {},
   "outputs": [],
   "source": [
    "images_df.columns"
   ]
  },
  {
   "cell_type": "code",
   "execution_count": 14,
   "metadata": {},
   "outputs": [],
   "source": [
    "# SAVE CHOSEN IMAGES DATAFRAME\n",
    "\n",
    "# IMAGES WITHOUT WEEDS - READ CHOSEN IMAGES DATA FROM IMAGES_DF\n",
    "\n",
    "csv_file = os.path.join(DATA_DIR, \"anafa_tmp_wide_images_images_df.csv\")\n",
    "\n",
    "images_ids_to_dataset_no_weeds = [5346105, 7408611, 7408436, 7408601, 8633551, 5347319, 7411416]\n",
    "images_ids_to_dataset_no_weeds_zoom = env.eti_api.get_matching_zoom_images(list(images_ids_to_dataset_no_weeds))\n",
    "\n",
    "# ADD TO DATAFRAME IMAGES FROM TTT\n",
    "ttt_images_paths = glob.glob(os.path.join(\"images_to_dataloop_ttt/wide_ttt\", \"*.jpg\"))\n",
    "ttt_images_ids = [int(os.path.basename(p).replace(\".jpg\", \"\")) for p in ttt_images_paths]\n",
    "ttt_images_ids_zoom = env.eti_api.get_matching_zoom_images(list(ttt_images_ids))\n",
    "\n",
    "\n",
    "chunk_size = 1000\n",
    "filtered_chunks_images_without_weeds = []\n",
    "filtered_chunks_ttt_images = []\n",
    "\n",
    "for chunk in pd.read_csv(csv_file, chunksize=chunk_size):\n",
    "    filtered_chunk_images_without_weeds = chunk[chunk['imageID'].isin(images_ids_to_dataset_no_weeds_zoom)]\n",
    "    filtered_chunks_images_without_weeds.append(filtered_chunk_images_without_weeds)\n",
    "\n",
    "    filtered_chunk_ttt_images = chunk[chunk['imageID'].isin(ttt_images_ids_zoom)]\n",
    "    filtered_chunks_ttt_images.append(filtered_chunk_ttt_images)\n",
    "\n",
    "df_chosen_images_without_weeds = pd.concat(filtered_chunks_images_without_weeds, ignore_index=True)\n",
    "df_chosen_ttt_images = pd.concat(filtered_chunks_ttt_images, ignore_index=True)\n",
    "\n",
    "\n",
    "\n",
    "\n",
    "\n",
    "# IMAGES WITH WEEDS\n",
    "\n",
    "weeds_df_csv_file = os.path.join(DATA_DIR, \"weeds_images_df_light.csv\")\n",
    "weeds_df = pd.read_csv(weeds_df_csv_file)\n",
    "\n",
    "# CREATE DATAFRAME WITH NEW CHOSEN IMAGES\n",
    "images_ids_to_dataset_with_weeds = [7659514, 9664706, 6010828, 8243459, 5487061, 5446549, 7275950]\n",
    "images_ids_to_dataset_with_weeds_zoom = env.eti_api.get_matching_zoom_images(list(images_ids_to_dataset_with_weeds))\n",
    "df_chosen_images_with_weeds = weeds_df[weeds_df['imageID'].isin(images_ids_to_dataset_with_weeds_zoom)]\n",
    "\n",
    "# ADD TO DATAFRAME IMAGES FROM TTT\n",
    "ttt_images_paths = glob.glob(os.path.join(\"images_to_dataloop_ttt/wide_ttt\", \"*.jpg\"))\n",
    "ttt_images_ids = [int(os.path.basename(p).replace(\".jpg\", \"\")) for p in ttt_images_paths]\n",
    "df_existing_images_try = weeds_df[weeds_df['imageID'].isin(ttt_images_ids_zoom)]\n",
    "\n",
    "total_chosen_images_df = pd.concat([df_chosen_images_without_weeds, df_chosen_images_with_weeds, df_chosen_ttt_images]).reset_index(drop=True)\n",
    "total_chosen_images_df.to_csv(os.path.join(DATA_DIR, \"wide_images_weeds_taggers_ragging_task_2023_06_27.csv\"))\n"
   ]
  },
  {
   "cell_type": "code",
   "execution_count": null,
   "metadata": {},
   "outputs": [],
   "source": [
    "total_chosen_images_df['wideImageID'] = env.eti_api.get_matching_wide_images(list(total_chosen_images_df['imageID']))"
   ]
  },
  {
   "cell_type": "code",
   "execution_count": 15,
   "metadata": {},
   "outputs": [
    {
     "data": {
      "text/plain": [
       "31"
      ]
     },
     "execution_count": 15,
     "metadata": {},
     "output_type": "execute_result"
    }
   ],
   "source": [
    "total_chosen_images_df = pd.read_csv(os.path.join(DATA_DIR, \"wide_images_weeds_taggers_ragging_task_2023_06_27.csv\"))\n",
    "len(total_chosen_images_df)"
   ]
  },
  {
   "cell_type": "code",
   "execution_count": 18,
   "metadata": {},
   "outputs": [],
   "source": [
    "# DOWNLOAD CHOSEN IMAGES\n",
    "total_chosen_images_df['wideImageID'] = env.eti_api.get_matching_wide_images(list(total_chosen_images_df['imageID']))\n",
    "for im_id in total_chosen_images_df['wideImageID']:\n",
    "    wide_im_path = env.download_image(im_id)\n"
   ]
  },
  {
   "cell_type": "code",
   "execution_count": null,
   "metadata": {},
   "outputs": [],
   "source": [
    "# COPY IMAGES TO FOLDER FOR DATALOOP BUCKET\n",
    "\n",
    "df_to_dataloop =  total_chosen_images_df\n",
    "\n",
    "# MAKE SURE ALL THE IMAGES IN FINAL_DF EXISTS IN LOCAL FOLDER\n",
    "existing_images_list = glob.glob(os.path.join(\"images\", \"*.jpg\"))\n",
    "check_list = []\n",
    "for im_id in df_to_dataloop['wideImageID']:\n",
    "    if os.path.join(\"images\", f\"{im_id}.jpg\"):\n",
    "        check_list.append(True)\n",
    "\n",
    "print(np.count_nonzero(check_list))\n",
    "\n",
    "\n",
    "# MOVE CHOSEN IMAGES TO A FOLDER\n",
    "source_folder = \"images\"\n",
    "destination_folder = \"images_to_dataloop\"\n",
    "\n",
    "# Move the file\n",
    "destination_sub_folder = os.path.join(destination_folder, f\"first_tagging_task\")\n",
    "os.makedirs(destination_sub_folder, exist_ok=True)\n",
    "for im_id in df_to_dataloop['wideImageID']:\n",
    "    source_path = os.path.join(source_folder, f\"{int(im_id)}.jpg\")\n",
    "    image_destination_path = os.path.join(destination_sub_folder, f\"{int(im_id)}.jpg\")\n",
    "    if not os.path.exists(image_destination_path):\n",
    "        print(f\"copying image {int(im_id)}.jpg\")\n",
    "        shutil.copy2(source_path, destination_sub_folder)"
   ]
  }
 ],
 "metadata": {
  "kernelspec": {
   "display_name": "Python 3",
   "language": "python",
   "name": "python3"
  },
  "language_info": {
   "codemirror_mode": {
    "name": "ipython",
    "version": 3
   },
   "file_extension": ".py",
   "mimetype": "text/x-python",
   "name": "python",
   "nbconvert_exporter": "python",
   "pygments_lexer": "ipython3",
   "version": "3.8.10"
  },
  "orig_nbformat": 4
 },
 "nbformat": 4,
 "nbformat_minor": 2
}

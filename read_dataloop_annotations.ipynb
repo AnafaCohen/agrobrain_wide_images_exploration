{
 "cells": [
  {
   "cell_type": "code",
   "execution_count": null,
   "metadata": {},
   "outputs": [],
   "source": [
    "import os\n",
    "import numpy as np\n",
    "import pandas as pd\n",
    "import json\n",
    "os.environ[\"NAMESPACE\"]=\"research\"\n",
    "os.environ[\"PROFILE\"]=\"local\"\n",
    "from agrobrain_util.runtime.evironment import RuntimeEnv\n",
    "from agrobrain_util.infra.app_config import application_config as cfg\n",
    "\n",
    "import shutil\n",
    "import glob\n",
    "from skimage import io\n",
    "import matplotlib.pyplot as plt\n",
    "import matplotlib.patches as patches\n",
    "import json\n",
    "import random\n",
    "import glob\n",
    "import datetime\n",
    "from tqdm import tqdm\n",
    "from datetime import datetime\n",
    "\n",
    "from PIL import Image\n",
    "\n",
    "import dtlpy as dl\n",
    "if dl.token_expired():\n",
    "    dl.login()\n",
    "\n",
    "\n",
    "\n",
    "env = RuntimeEnv()\n",
    "categories_dict = cfg['tags']['categories']\n",
    "\n",
    "DATA_DIR = \"data\"\n",
    "\n",
    "\n",
    "def create_cat_dict(cat_list):\n",
    "    cat_dict_types = {}\n",
    "    cat_dict_names = {}\n",
    "    for l in cat_list:\n",
    "        cat_dict_types[l['id']] = l['type']\n",
    "        if 'name' in l:\n",
    "            cat_dict_names[l['id']] = l['name']\n",
    "        else:\n",
    "            cat_dict_names[l['id']] = 'NoName'\n",
    "    cat_dict_types[0] = None\n",
    "    cat_dict_names[0] = None\n",
    "    return cat_dict_types, cat_dict_names\n",
    "\n",
    "\n",
    "categories_hierarchy = env.eti_api.get_categories_hierarchy()\n",
    "cat_dict_types, cat_dict_names = create_cat_dict(categories_hierarchy[9]['subCategories'])\n",
    "\n"
   ]
  },
  {
   "cell_type": "code",
   "execution_count": null,
   "metadata": {},
   "outputs": [],
   "source": [
    "# DISPLAY TEAM TAGGING TASK\n",
    "\n",
    "dataloop_local_data_dir = os.path.join(DATA_DIR, f\"dataloop\")\n",
    "annotation_local_path = os.path.join(dataloop_local_data_dir, f\"annotations_anafa_2023_07_06_wide_full_ttt_filtered_dataset_v1\", \"json\")\n",
    "# annotation_local_path = f'C:\\\\Users\\\\Anafa\\\\repositories\\\\agrobrain_wide_images_exploration\\\\data\\\\dataloop\\\\annotations_anafa_2023_07_06_wide_full_ttt_filtered_dataset_v1\\\\json'\n",
    "\n",
    "jsons_paths_list = glob.glob(os.path.join(annotation_local_path, \"*.json\"))\n",
    "\n",
    "\n"
   ]
  },
  {
   "cell_type": "code",
   "execution_count": null,
   "metadata": {},
   "outputs": [],
   "source": [
    "\n",
    "im_id = int(os.path.basename(jsons_paths_list[0]).replace(\".json\", \"\"))"
   ]
  },
  {
   "cell_type": "code",
   "execution_count": null,
   "metadata": {},
   "outputs": [],
   "source": [
    "image_dataloop_df = pd.DataFrame(example_data['annotations'])\n",
    "image_polygons = image_dataloop_df[image_dataloop_df['type']=='polygon'].reset_index()\n",
    "image_points = image_dataloop_df[image_dataloop_df['type']=='point'].reset_index()\n",
    "image_ellipse = image_dataloop_df[image_dataloop_df['type']=='ellipse'].reset_index()\n",
    "image_segment = image_dataloop_df[image_dataloop_df['type']=='segment'].reset_index()"
   ]
  },
  {
   "cell_type": "code",
   "execution_count": null,
   "metadata": {},
   "outputs": [],
   "source": [
    "image_segment['coordinates'][0]"
   ]
  },
  {
   "cell_type": "code",
   "execution_count": null,
   "metadata": {},
   "outputs": [],
   "source": [
    "image_segment['coordinates'][i][0]"
   ]
  },
  {
   "cell_type": "code",
   "execution_count": null,
   "metadata": {},
   "outputs": [],
   "source": [
    "fig, axs = plt.subplots(num_rows, num_cols)\n",
    "axs"
   ]
  },
  {
   "cell_type": "code",
   "execution_count": null,
   "metadata": {},
   "outputs": [],
   "source": [
    "# np.unique(image_dataloop_df['updatedBy'])\n",
    "image_dataloop_df"
   ]
  },
  {
   "cell_type": "code",
   "execution_count": null,
   "metadata": {},
   "outputs": [],
   "source": [
    "for js in jsons_paths_list:\n",
    "    example_json_path = js\n",
    "\n",
    "    with open(example_json_path) as file:\n",
    "        example_data = json.load(file)\n",
    "\n",
    "\n",
    "\n",
    "    image_dataloop_df = pd.DataFrame(example_data['annotations'])\n",
    "    image_polygons = image_dataloop_df[image_dataloop_df['type']=='polyline'].reset_index()\n",
    "    image_points = image_dataloop_df[image_dataloop_df['type']=='point'].reset_index()\n",
    "    image_ellipse = image_dataloop_df[image_dataloop_df['type']=='ellipse'].reset_index()\n",
    "    image_segment = image_dataloop_df[image_dataloop_df['type']=='segment'].reset_index()\n",
    "    image_binary = image_dataloop_df[image_dataloop_df['type']=='binary'].reset_index()\n",
    "    image_box = image_dataloop_df[image_dataloop_df['type']=='box'].reset_index()\n",
    "    image_class = image_dataloop_df[image_dataloop_df['type']=='class'].reset_index()\n",
    "\n",
    "\n",
    "    print(len(image_points))"
   ]
  },
  {
   "cell_type": "code",
   "execution_count": null,
   "metadata": {},
   "outputs": [],
   "source": [
    "# DISPLAY ALL DL POLYGONS ON THE IMAGE\n",
    "\n",
    "def get_im_id_from_json_path(p):\n",
    "    return int(os.path.basename(p).replace(\".json\", \"\"))\n",
    "\n",
    "example_json_path = jsons_paths_list[5]\n",
    "\n",
    "with open(example_json_path) as file:\n",
    "    example_data = json.load(file)\n",
    "\n",
    "\n",
    "\n",
    "image_dataloop_df = pd.DataFrame(example_data['annotations'])\n",
    "image_polygons = image_dataloop_df[image_dataloop_df['type']=='polygon'].reset_index()\n",
    "image_points = image_dataloop_df[image_dataloop_df['type']=='point'].reset_index()\n",
    "image_ellipse = image_dataloop_df[image_dataloop_df['type']=='ellipse'].reset_index()\n",
    "image_segment = image_dataloop_df[image_dataloop_df['type']=='segment'].reset_index()\n",
    "\n",
    "example_polygon_coordinates = example_data['annotations'][0]['coordinates']\n",
    "\n",
    "example_image_id = get_im_id_from_json_path(example_json_path)\n",
    "im_path = env.download_image(int(example_image_id))\n",
    "image = io.imread(im_path)\n",
    "\n",
    "#~~~~~~~~~~~~~~~~~~~~~~~~~~~~~~~~~~~~\n",
    "\n",
    "num_images = len(image_segment['coordinates'])\n",
    "num_rows = (num_images + 2) // 3  # Divide and round up\n",
    "num_cols = min(num_images, 3)\n",
    "\n",
    "# Create the figure and axes for the subplots\n",
    "fig, axs = plt.subplots(num_rows, num_cols)\n",
    "\n",
    "\n",
    "#~~~~~~~~~~~~~~~~~~~~~~~~~~~~~~~~~~~~\n",
    "for i, ax in range(len(image_segment['coordinates'])):\n",
    "    ax = axs[i]\n",
    "    x_values = [coord['x'] for coord in image_segment['coordinates'][i][0]]\n",
    "    y_values = [coord['y'] for coord in image_segment['coordinates'][i][0]]\n",
    "    polygon = patches.Polygon(list(zip(x_values, y_values)), closed=True, fill=None, edgecolor='aquamarine')\n",
    "\n",
    "    ax.imshow(image)\n",
    "    # Add the polygon patch to the axes\n",
    "    ax.add_patch(polygon)\n",
    "\n",
    "    # Set the x and y limits of the axes\n",
    "    ax.set_xlim(min(x_values)-100, max(x_values)+100)\n",
    "    ax.set_ylim(min(y_values)-100, max(y_values)+100)\n",
    "\n",
    "    ax.set_title(f\"tag: {example_data['annotations'][i]['label']}\")\n",
    "\n",
    "fig.suptitle(f\"Image ID: {example_image_id}\", y=0.85)\n",
    "fig.tight_layout(h_pad=20)\n",
    "plt.show()\n",
    "\n"
   ]
  },
  {
   "cell_type": "code",
   "execution_count": null,
   "metadata": {},
   "outputs": [],
   "source": [
    "# DISPLAY ALL DL POLYGONS ON THE IMAGE\n",
    "\n",
    "example_json_path = \"data/dataloop_jsons/6415975.json\"\n",
    "with open(example_json_path) as file:\n",
    "    example_data = json.load(file)\n",
    "\n",
    "example_polygon_coordinates = example_data['annotations'][0]['coordinates']\n",
    "\n",
    "example_image_id = 6415975\n",
    "im_path = env.download_image(int(example_image_id))\n",
    "image = io.imread(im_path)\n",
    "\n",
    "#~~~~~~~~~~~~~~~~~~~~~~~~~~~~~~~~~~~~\n",
    "\n",
    "num_images = len(example_data['annotations'])\n",
    "num_rows = (num_images + 2) // 3  # Divide and round up\n",
    "num_cols = min(num_images, 3)\n",
    "\n",
    "# Create the figure and axes for the subplots\n",
    "fig, axs = plt.subplots(num_rows, num_cols)\n",
    "\n",
    "\n",
    "#~~~~~~~~~~~~~~~~~~~~~~~~~~~~~~~~~~~~\n",
    "for i in range(len(example_data['annotations'])):\n",
    "    ax = axs[i]\n",
    "    x_values = [coord['x'] for coord in example_data['annotations'][i]['coordinates'][0]]\n",
    "    y_values = [coord['y'] for coord in example_data['annotations'][i]['coordinates'][0]]\n",
    "    polygon = patches.Polygon(list(zip(x_values, y_values)), closed=True, fill=None, edgecolor='aquamarine')\n",
    "\n",
    "    ax.imshow(image)\n",
    "    # Add the polygon patch to the axes\n",
    "    ax.add_patch(polygon)\n",
    "\n",
    "    # Set the x and y limits of the axes\n",
    "    ax.set_xlim(min(x_values)-100, max(x_values)+100)\n",
    "    ax.set_ylim(min(y_values)-100, max(y_values)+100)\n",
    "\n",
    "    ax.set_title(f\"tag: {example_data['annotations'][i]['label']}\")\n",
    "\n",
    "fig.suptitle(f\"Image ID: {example_image_id}\", y=0.85)\n",
    "fig.tight_layout(h_pad=20)\n",
    "plt.show()"
   ]
  },
  {
   "cell_type": "code",
   "execution_count": null,
   "metadata": {},
   "outputs": [],
   "source": [
    "# task object or assignment instead of dataset. filter: completed."
   ]
  },
  {
   "cell_type": "code",
   "execution_count": null,
   "metadata": {},
   "outputs": [],
   "source": [
    "# DOWNLOAD ANNOTATIONS FROM DATALOOP\n",
    "\n",
    "DATASET_NAME = \"anafa_2023_06_23_resolution_lim_dataset\"\n",
    "VERSION = 0\n",
    "\n",
    "dataloop_local_data_dir = os.path.join(DATA_DIR, f\"dataloop\")\n",
    "annotation_local_path = os.path.join(dataloop_local_data_dir, f\"annotations_{DATASET_NAME}_v{VERSION}\")\n",
    "project = dl.projects.get(project_name='Taranis AI Annotation Projects')\n",
    "\n",
    "task = project.tasks.get(task_name='anafa_2023_06_23_resolution_lim_first_task')\n",
    "# task.\n",
    "\n",
    "\n",
    "# dataset = project.datasets.get(dataset_name='anafa_2023_07_06_wide_full_ttt_filtered')\n",
    "# # dataset.download(local_path=dataloop_local_data_dir,\n",
    "# #                  annotation_options=dl.VIEW_ANNOTATION_OPTIONS_JSON)\n",
    "# dataset.download_annotations(local_path=annotation_local_path)"
   ]
  },
  {
   "cell_type": "code",
   "execution_count": null,
   "metadata": {},
   "outputs": [],
   "source": [
    "assignments = task.assignments.list()"
   ]
  },
  {
   "cell_type": "code",
   "execution_count": null,
   "metadata": {},
   "outputs": [],
   "source": [
    "a = assignments[0]"
   ]
  },
  {
   "cell_type": "code",
   "execution_count": null,
   "metadata": {},
   "outputs": [],
   "source": [
    "p = a.get_items()\n",
    "p[0]"
   ]
  },
  {
   "cell_type": "code",
   "execution_count": null,
   "metadata": {},
   "outputs": [],
   "source": [
    "i = p[0][0]"
   ]
  },
  {
   "cell_type": "code",
   "execution_count": null,
   "metadata": {},
   "outputs": [],
   "source": [
    "l = i.annotations.list()"
   ]
  },
  {
   "cell_type": "code",
   "execution_count": null,
   "metadata": {},
   "outputs": [],
   "source": [
    "l.annotations[0].coordinates"
   ]
  },
  {
   "cell_type": "code",
   "execution_count": null,
   "metadata": {},
   "outputs": [],
   "source": [
    "# DOWNLOAD ANNOTATIONS FROM DATALOOP\n",
    "\n",
    "DATASET_NAME = \"anafa_2023_07_06_wide_full_ttt_filtered_dataset\"\n",
    "VERSION = 1\n",
    "\n",
    "dataloop_local_data_dir = os.path.join(DATA_DIR, f\"dataloop\")\n",
    "annotation_local_path = os.path.join(dataloop_local_data_dir, f\"annotations_{DATASET_NAME}_v{VERSION}\")\n",
    "project = dl.projects.get(project_name='Taranis AI Annotation Projects')\n",
    "\n",
    "dataset = project.datasets.get(dataset_name='anafa_2023_07_06_wide_full_ttt_filtered')\n",
    "# dataset.download(local_path=dataloop_local_data_dir,\n",
    "#                  annotation_options=dl.VIEW_ANNOTATION_OPTIONS_JSON)\n",
    "dataset.download_annotations(local_path=annotation_local_path)"
   ]
  },
  {
   "cell_type": "code",
   "execution_count": null,
   "metadata": {},
   "outputs": [],
   "source": [
    "# FILTER BEFORE DOWNLOADING\n",
    "\n",
    "filters = dl.Filters(use_defaults=False)\n",
    "filters.add(field='type', values='file')\n",
    "filters.add(field='annotated', values=True)\n",
    "dataset.download_annotations(local_path=dataloop_local_data_dir, filters=filters)\n",
    "\n",
    "# dataset.download_annotations(local_path=dataloop_local_data_dir)"
   ]
  },
  {
   "cell_type": "code",
   "execution_count": null,
   "metadata": {},
   "outputs": [],
   "source": [
    "# READ ANNOTATION JSONS\n",
    "\n",
    "# DATASET_NAME = \"anafa_2023_07_06_wide_full_ttt_filtered_dataset\"\n",
    "# dataloop_local_data_dir = os.path.join(DATA_DIR, f\"dataloop_{DATASET_NAME}_try1\")\n",
    "# items_folder = os.path.join(dataloop_local_data_dir, f\"items\")\n",
    "# jsons_folder = os.path.join(dataloop_local_data_dir, f\"json\")\n",
    "\n",
    "jsons_paths_list = glob.glob(os.path.join(annotation_local_path, \"json\", \"*.json\"))"
   ]
  },
  {
   "cell_type": "code",
   "execution_count": null,
   "metadata": {},
   "outputs": [],
   "source": [
    "example_json_path = jsons_paths_list[2]\n",
    "with open(json_path) as file:\n",
    "    data = json.load(file)\n",
    "\n"
   ]
  },
  {
   "cell_type": "code",
   "execution_count": null,
   "metadata": {},
   "outputs": [],
   "source": [
    "data['annotationsCount']"
   ]
  },
  {
   "cell_type": "code",
   "execution_count": null,
   "metadata": {},
   "outputs": [],
   "source": [
    "# jsons_folder = 'dataloop_anafa_2023_07_06_wide_full_ttt_filtered_dataset_UI'\n",
    "# dataloop_local_data_dir = os.path.join(DATA_DIR, jsons_folder)\n",
    "\n",
    "# jsons_paths_list = glob.glob(os.path.join(dataloop_local_data_dir, \"*.json\"))\n",
    "\n",
    "jsons_with_annotations = []\n",
    "\n",
    "for json_path in tqdm(jsons_paths_list):\n",
    "    with open(json_path) as file:\n",
    "        data = json.load(file)\n",
    "    if data['annotated']:\n",
    "        jsons_with_annotations.append(json_path)\n",
    "        # print(json_path)\n",
    "    # print(data['annotated'])\n"
   ]
  },
  {
   "cell_type": "code",
   "execution_count": null,
   "metadata": {},
   "outputs": [],
   "source": [
    "json_path = jsons_with_annotations[0]\n",
    "with open(json_path) as file:\n",
    "    data = json.load(file)"
   ]
  },
  {
   "cell_type": "code",
   "execution_count": null,
   "metadata": {},
   "outputs": [],
   "source": [
    "image_dataloop_df = pd.DataFrame(data['annotations'])"
   ]
  },
  {
   "cell_type": "code",
   "execution_count": null,
   "metadata": {},
   "outputs": [],
   "source": [
    "np.unique(image_dataloop_df['type'])"
   ]
  },
  {
   "cell_type": "code",
   "execution_count": null,
   "metadata": {},
   "outputs": [],
   "source": [
    "image_polygons = image_dataloop_df[image_dataloop_df['type']=='polygon'].reset_index()\n",
    "image_points = image_dataloop_df[image_dataloop_df['type']=='point'].reset_index()\n",
    "image_ellipse = image_dataloop_df[image_dataloop_df['type']=='ellipse'].reset_index()\n",
    "image_segment = image_dataloop_df[image_dataloop_df['type']=='segment'].reset_index()"
   ]
  },
  {
   "cell_type": "code",
   "execution_count": null,
   "metadata": {},
   "outputs": [],
   "source": [
    "for point in "
   ]
  },
  {
   "cell_type": "code",
   "execution_count": null,
   "metadata": {},
   "outputs": [],
   "source": [
    "dataloop_df.columns"
   ]
  },
  {
   "cell_type": "code",
   "execution_count": null,
   "metadata": {},
   "outputs": [],
   "source": [
    "# Get project and dataset\n",
    "# project = dl.projects.get(project_name='project_name')\n",
    "dataset = project.datasets.get(dataset_name='anafa_2023_07_06_wide_full_ttt_filtered')\n",
    "filters = dl.Filters()\n",
    "filters.add(field='annotated', values=True)\n",
    "pages = dataset.items.list(filters=filters)\n",
    "\n",
    "print('Number of items in dataset: {}'.format(pages.items_count))"
   ]
  },
  {
   "cell_type": "code",
   "execution_count": null,
   "metadata": {},
   "outputs": [],
   "source": [
    "# example_json_path = jsons_paths_list[0]\n",
    "\n",
    "for json_path in tqdm(jsons_paths_list):\n",
    "    with open(json_path) as file:\n",
    "        data = json.load(file)\n",
    "    print(data['annotated'])\n",
    "\n",
    "    # if len(data['annotations']) > 0:\n",
    "    #     print(json_path)\n",
    "    # for i in range(len(data['annotations'])):\n",
    "    #     ax = axs[i]\n",
    "    #     x_values = [coord['x'] for coord in data['annotations'][i]['coordinates'][0]]\n",
    "    #     y_values = [coord['y'] for coord in data['annotations'][i]['coordinates'][0]]\n",
    "    #     polygon = patches.Polygon(list(zip(x_values, y_values)), closed=True, fill=None, edgecolor='aquamarine')\n",
    "\n",
    "    #     ax.imshow(image)\n",
    "    #     # Add the polygon patch to the axes\n",
    "    #     ax.add_patch(polygon)\n",
    "\n",
    "    #     # Set the x and y limits of the axes\n",
    "    #     ax.set_xlim(min(x_values)-100, max(x_values)+100)\n",
    "    #     ax.set_ylim(min(y_values)-100, max(y_values)+100)\n",
    "\n",
    "    #     ax.set_title(f\"tag: {data['annotations'][i]['label']}\")\n",
    "\n",
    "    # fig.suptitle(f\"Image ID: {example_image_id}\", y=0.85)\n",
    "    # fig.tight_layout(h_pad=20)\n",
    "    # plt.show()\n",
    "\n",
    "# polygon_coordinates = data['annotations'][0]['coordinates']"
   ]
  },
  {
   "cell_type": "code",
   "execution_count": null,
   "metadata": {},
   "outputs": [],
   "source": [
    "data['annotations']"
   ]
  },
  {
   "attachments": {},
   "cell_type": "markdown",
   "metadata": {},
   "source": [
    "# Trash"
   ]
  },
  {
   "cell_type": "code",
   "execution_count": null,
   "metadata": {},
   "outputs": [],
   "source": [
    "# DISPLAY A SINGLE DL POLYGON ON THE IMAGE\n",
    "\n",
    "example_image_id = 6415975\n",
    "im_path = env.download_image(int(example_image_id))\n",
    "image = io.imread(im_path)\n",
    "\n",
    "x_values = [coord['x'] for coord in polygon_coordinates[0]]\n",
    "y_values = [coord['y'] for coord in polygon_coordinates[0]]\n",
    "\n",
    "\n",
    "fig, ax = plt.subplots()\n",
    "polygon = patches.Polygon(list(zip(x_values, y_values)), closed=True, fill=None, edgecolor='aquamarine')\n",
    "\n",
    "ax.imshow(image)\n",
    "# Add the polygon patch to the axes\n",
    "ax.add_patch(polygon)\n",
    "\n",
    "# Set the x and y limits of the axes\n",
    "ax.set_xlim(min(x_values)-100, max(x_values)+100)\n",
    "ax.set_ylim(min(y_values)-100, max(y_values)+100)\n",
    "\n",
    "ax.set_title(f\"Image ID: {example_image_id}\\ntag: {data['annotations'][0]['label']}\")\n",
    "\n",
    "# Display the plot\n",
    "plt.show()"
   ]
  },
  {
   "cell_type": "code",
   "execution_count": null,
   "metadata": {},
   "outputs": [],
   "source": [
    "# DATALOOP INFORMATION FROM JSON\n",
    "\n",
    "data['annotations'][0].keys()\n",
    "polygon_coordinates = data['annotations'][0]['coordinates']\n",
    "data['annotations'][0]['type'], data['annotations'][0]['label']"
   ]
  },
  {
   "cell_type": "code",
   "execution_count": null,
   "metadata": {},
   "outputs": [],
   "source": [
    "# READ AND DISPLAY IMAGE. ZOOM AND WIDE\n",
    "\n",
    "example_image_id = 6415975\n",
    "# SHOW IMAGES\n",
    "weeds_images_df = pd.read_csv(os.path.join(DATA_DIR, \"weeds_images_df_light.csv\"))\n",
    "print(f\"Zoom image id: {example_image_id}\")\n",
    "image_data = weeds_images_df[weeds_images_df['imageID'] == example_image_id].reset_index(drop=True)\n",
    "image_data['wideImageID'] = env.eti_api.get_matching_wide_images(list(image_data['imageID']))\n",
    "\n",
    "image_data['uploadDate_time'] = image_data['uploadDate'].apply(datetime.fromtimestamp)\n",
    "image_data['uploadDate_date'] = image_data['uploadDate_time'].apply(lambda x: x.to_pydatetime().date())\n",
    "image_data['weed_types_ids'] = image_data['weed_types_ids_list'].apply(lambda x: x[0])\n",
    "image_data['weed_inferenceTagsCount'] = image_data['weed_inferenceTagsCount'].apply(eval)\n",
    "image_data['weed_inferenceTagsCount'] = image_data['weed_inferenceTagsCount'].apply(lambda x: x[0])\n",
    "image_data['weed_manualTagsCount'] = image_data['num_weed_tags'] - image_data['weed_inferenceTagsCount']\n",
    "matching_wide_image_id = int(image_data.at[0, 'wideImageID'])\n",
    "print(f\"Wide image id: {matching_wide_image_id}\")\n",
    "image_num_tags = image_data.at[0, 'num_weed_tags']\n",
    "image_num_manual_tags = image_data.at[0, 'weed_manualTagsCount']\n",
    "image_num_inference_tags = image_data.at[0, 'weed_inferenceTagsCount']\n",
    "\n",
    "image_crop_name = image_data.at[0, 'cropName']\n",
    "upload_date = image_data.at[0, 'uploadDate_date']\n",
    "weed_types = image_data.at[0, 'weed_types_ids_list']\n",
    "weed_types = eval(image_data.at[0, 'weed_types_ids_list'])\n",
    "weed_types = list(map(cat_dict_names.get, weed_types))\n",
    "\n",
    "\n",
    "im_path = env.download_image(int(example_image_id))\n",
    "image = io.imread(im_path)\n",
    "\n",
    "# wide_im_path = env.download_image(int(matching_wide_image_id))\n",
    "# wide_image = io.imread(wide_im_path)\n",
    "\n",
    "fig, axes = plt.subplots(nrows=1, ncols=1)\n",
    "axes.imshow(image, extent=[0, image.shape[1], 0, image.shape[0]])\n",
    "# axes[1].imshow(wide_image, extent=[0, wide_image.shape[1], 0, wide_image.shape[0]])\n",
    "\n",
    "\n",
    "axes.set_xticks([])\n",
    "axes.set_yticks([])\n",
    "fig.set_size_inches(20, 10)\n",
    "plt.suptitle(f\"Crop Type: {image_crop_name}\\nZoom Image ID: {example_image_id}\\nuploadDate: {upload_date}\\nNum Weed Tags: {image_num_tags}\\nManual tags: {image_num_manual_tags}, Inference tags: {image_num_inference_tags}\\nWeed types: {weed_types}\")\n",
    "# plt.suptitle(f\"Crop Type: {image_crop_name}\\nZoom Image ID: {example_image_id}, Wide Image ID: {matching_wide_image_id}\\nuploadDate: {upload_date}\\nNum Weed Tags: {image_num_tags}\\nManual tags: {image_num_manual_tags}, Inference tags: {image_num_inference_tags}\\nWeed types: {weed_types}\")\n",
    "\n",
    "plt.tight_layout()\n",
    "plt.show()"
   ]
  },
  {
   "cell_type": "code",
   "execution_count": null,
   "metadata": {},
   "outputs": [],
   "source": [
    "json_path = \"data/dataloop_jsons/6415975.json\"\n",
    "with open(json_path) as file:\n",
    "    data = json.load(file)\n",
    "\n",
    "polygon_coordinates = data['annotations'][0]['coordinates']\n",
    "\n",
    "print(data.keys())"
   ]
  }
 ],
 "metadata": {
  "kernelspec": {
   "display_name": "Python 3",
   "language": "python",
   "name": "python3"
  },
  "language_info": {
   "codemirror_mode": {
    "name": "ipython",
    "version": 3
   },
   "file_extension": ".py",
   "mimetype": "text/x-python",
   "name": "python",
   "nbconvert_exporter": "python",
   "pygments_lexer": "ipython3",
   "version": "3.8.10"
  },
  "orig_nbformat": 4
 },
 "nbformat": 4,
 "nbformat_minor": 2
}

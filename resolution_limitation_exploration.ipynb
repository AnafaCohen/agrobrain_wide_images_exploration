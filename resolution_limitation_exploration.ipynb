{
 "cells": [
  {
   "cell_type": "code",
   "execution_count": null,
   "metadata": {},
   "outputs": [],
   "source": [
    "import pandas as pd\n",
    "import os\n",
    "import matplotlib.pyplot as plt\n",
    "import numpy as np\n",
    "from skimage import io\n",
    "import statsmodels.api as sm\n",
    "\n",
    "os.environ[\"NAMESPACE\"]=\"research\"\n",
    "os.environ[\"PROFILE\"]=\"local\"\n",
    "from agrobrain_util.runtime.evironment import RuntimeEnv\n",
    "\n",
    "DATA_DIR = \"data\"\n",
    "env = RuntimeEnv()\n",
    "\n",
    "\n",
    "\n",
    "csv_path = os.path.join(DATA_DIR, \"resolution_limitation_tags_dataframe_2.csv\")\n",
    "resolution_tags_df = pd.read_csv(csv_path)\n",
    "\n",
    "images_data = pd.read_csv(os.path.join(DATA_DIR, 'resolution_test', 'resolution_test_images_dataframe_1000_images_full_data_1.csv'))\n",
    "images_data = images_data[~images_data['wideImageID'].isna()].reset_index(drop=True)\n",
    "\n",
    "resolution_tags_df_sorted = resolution_tags_df.sort_values(by='poly_union_area_pixel')\n",
    "\n",
    "resolution_tags_df_sorted['res_7.2_binary'] = resolution_tags_df_sorted['res_7.2'].apply(lambda x: 1 if x > 0 else 0)\n",
    "resolution_tags_df_sorted['res_9.0_binary'] = resolution_tags_df_sorted['res_9.0'].apply(lambda x: 1 if x > 0 else 0)\n",
    "resolution_tags_df_sorted['res_10.8_binary'] = resolution_tags_df_sorted['res_10.8'].apply(lambda x: 1 if x > 0 else 0)\n",
    "resolution_tags_df_sorted['res_12.6_binary'] = resolution_tags_df_sorted['res_12.6'].apply(lambda x: 1 if x > 0 else 0)\n",
    "resolution_tags_df_sorted['res_14.4_binary'] = resolution_tags_df_sorted['res_14.4'].apply(lambda x: 1 if x > 0 else 0)\n",
    "\n",
    "example_image_id = int(resolution_tags_df_sorted['image_id'][0])\n",
    "im_path = env.download_image(int(example_image_id))\n",
    "image = io.imread(im_path)\n",
    "image_shape = image.shape\n",
    "image_area_pixels = image_shape[0] * image_shape[1]\n"
   ]
  },
  {
   "cell_type": "code",
   "execution_count": null,
   "metadata": {},
   "outputs": [],
   "source": [
    "env.download_image(int(example_image_id))"
   ]
  },
  {
   "cell_type": "code",
   "execution_count": null,
   "metadata": {},
   "outputs": [],
   "source": [
    "image_id = resolution_tags_df_sorted['image_id'][0]\n",
    "image_resolution = images_data[images_data['imageID']==image_id]['zoom_resolution'].values[0]\n",
    "\n",
    "int(np.sqrt(resolution_tags_df_sorted[resolution_tags_df_sorted['image_id']==image_id]['poly_box_area_pixel'][7]) * image_resolution)"
   ]
  },
  {
   "cell_type": "code",
   "execution_count": null,
   "metadata": {},
   "outputs": [],
   "source": [
    "res_7_percent = sum(resolution_tags_df_sorted['res_7.2_binary']) / len(resolution_tags_df_sorted)\n",
    "res_9_percent = sum(resolution_tags_df_sorted['res_9.0_binary']) / len(resolution_tags_df_sorted)\n",
    "res_10_percent = sum(resolution_tags_df_sorted['res_10.8_binary']) / len(resolution_tags_df_sorted)\n",
    "res_12_percent = sum(resolution_tags_df_sorted['res_12.6_binary']) / len(resolution_tags_df_sorted)\n",
    "res_14_percent = sum(resolution_tags_df_sorted['res_14.4_binary']) / len(resolution_tags_df_sorted)\n",
    "\n",
    "res_7_percent, res_9_percent, res_10_percent, res_12_percent, res_14_percent"
   ]
  },
  {
   "cell_type": "code",
   "execution_count": null,
   "metadata": {},
   "outputs": [],
   "source": [
    "chosen_resolution = 9.0\n",
    "\n",
    "resolution_tags_df_filtered = resolution_tags_df_sorted[resolution_tags_df_sorted['poly_box_length_mm']<=100]\n",
    "\n",
    "zero_rows = resolution_tags_df_filtered[resolution_tags_df_filtered[f'res_{chosen_resolution}_binary'] == 0]\n",
    "one_rows = resolution_tags_df_filtered[resolution_tags_df_filtered[f'res_{chosen_resolution}_binary'] == 1]\n",
    "\n",
    "# Randomly choose the same number of zero rows as the number of one rows\n",
    "num_rows_to_choose = min(len(zero_rows), len(one_rows))\n",
    "chosen_zero_rows = zero_rows.sample(n=num_rows_to_choose, random_state=42)\n",
    "\n",
    "# Concatenate the chosen zero rows and one rows to create the balanced DataFrame\n",
    "balanced_df = pd.concat([chosen_zero_rows, one_rows])\n",
    "\n",
    "# Shuffle the rows of the balanced DataFrame (optional)\n",
    "balanced_df = balanced_df.sample(frac=1, random_state=42).reset_index(drop=True)\n"
   ]
  },
  {
   "cell_type": "code",
   "execution_count": null,
   "metadata": {},
   "outputs": [],
   "source": [
    "res_7_percent = sum(balanced_df['res_7.2_binary']) / len(balanced_df)\n",
    "res_7_percent"
   ]
  },
  {
   "cell_type": "code",
   "execution_count": null,
   "metadata": {},
   "outputs": [],
   "source": [
    "resolution_tags_df_sorted.columns"
   ]
  },
  {
   "cell_type": "code",
   "execution_count": null,
   "metadata": {},
   "outputs": [],
   "source": [
    "min(resolution_tags_df_sorted['poly_box_length_mm']), max(resolution_tags_df_sorted['poly_box_length_mm'])"
   ]
  },
  {
   "cell_type": "code",
   "execution_count": null,
   "metadata": {},
   "outputs": [],
   "source": [
    "a = 100\n",
    "b=15\n",
    "\n",
    "a * b, np.sqrt(a * b), np.sqrt(a * b)"
   ]
  },
  {
   "cell_type": "code",
   "execution_count": null,
   "metadata": {},
   "outputs": [],
   "source": [
    "# PLOT THE GRAPHS ON TOP OF EACH OTHER\n",
    "\n",
    "resolutions = [7.2, 9.0, 10.8, 12.6, 14.4]\n",
    "colors = ['violet', 'palevioletred', 'hotpink', 'mediumvioletred', 'darkred']\n",
    "colors = ['greenyellow', 'limegreen', 'mediumseagreen', 'g', 'darkgreen']\n",
    "\n",
    "resolution_tags_df_filtered = resolution_tags_df_sorted[resolution_tags_df_sorted['original_polygons_avg_area_mm2']<=80000]\n",
    "# resolution_tags_df_filtered = resolution_tags_df_sorted\n",
    "\n",
    "fig, ax = plt.subplots(figsize=(18, 7))\n",
    "\n",
    "for i, resolution in enumerate(resolutions):\n",
    "    zero_rows = resolution_tags_df_filtered[resolution_tags_df_filtered[f'res_{resolution}_binary'] == 0]\n",
    "    one_rows = resolution_tags_df_filtered[resolution_tags_df_filtered[f'res_{resolution}_binary'] == 1]\n",
    "\n",
    "    # Randomly choose the same number of zero rows as the number of one rows\n",
    "    num_rows_to_choose = min(len(zero_rows), len(one_rows))\n",
    "    chosen_zero_rows = zero_rows.sample(n=num_rows_to_choose, random_state=42)\n",
    "\n",
    "    # Concatenate the chosen zero rows and one rows to create the balanced DataFrame\n",
    "    balanced_df = pd.concat([chosen_zero_rows, one_rows])\n",
    "\n",
    "    # # Shuffle the rows of the balanced DataFrame (optional)\n",
    "    # balanced_df = balanced_df.sample(frac=1, random_state=42).reset_index(drop=True)\n",
    "\n",
    "    data = {\n",
    "        'x': balanced_df['original_polygons_avg_area_mm2'].values,\n",
    "        'y': balanced_df[f'res_{resolution}_binary'].values,  # y values should be between 0 and 1 for logistic curve fitting\n",
    "    }\n",
    "\n",
    "    df = pd.DataFrame(data)\n",
    "\n",
    "    # Add constant to the predictor variable for the logistic regression\n",
    "    X = sm.add_constant(df['x'])\n",
    "\n",
    "    # Fit the logistic regression model\n",
    "    logit_model = sm.Logit(df['y'], X)\n",
    "    result = logit_model.fit()\n",
    "\n",
    "    # # Print the model summary\n",
    "    # print(result.summary())\n",
    "\n",
    "    # Get the fitted parameters\n",
    "    params = result.params\n",
    "    a_fit, b_fit = params\n",
    "\n",
    "    # Generate the curve based on the fitted parameters\n",
    "    x_curve = np.linspace(min(df['x']), max(df['x']), 100)\n",
    "    # x_curve = np.linspace(-100, max(df['x']), 100)\n",
    "\n",
    "    y_curve = 1 / (1 + np.exp(-params[0] - params[1] * x_curve))\n",
    "\n",
    "    ax.scatter(df['x'], df['y'], color=colors[i], marker='o', alpha=0.5, s=10)\n",
    "    x_th = -params[0] / params[1]\n",
    "    \n",
    "    ax.plot(x_curve, y_curve, color=colors[i], label=f'Logistic Curve Resolution {resolution}: 0.5 at {\"{:.2f}\".format(x_th)} mm2')\n",
    "\n",
    "ax.set_xlabel('original_polygons_avg_area_mm2')\n",
    "ax.set_ylabel(f'Identifiied y/n')\n",
    "ax.set_title(f'Resolution curves - original_polygons_avg_area_mm2')\n",
    "ax.legend()\n",
    "ax.grid(True)\n",
    "plt.show()"
   ]
  },
  {
   "cell_type": "code",
   "execution_count": null,
   "metadata": {},
   "outputs": [],
   "source": [
    "result.summary()"
   ]
  },
  {
   "cell_type": "code",
   "execution_count": null,
   "metadata": {},
   "outputs": [],
   "source": [
    "-params[0] / params[1]"
   ]
  },
  {
   "cell_type": "code",
   "execution_count": null,
   "metadata": {},
   "outputs": [],
   "source": [
    "\n",
    "\n",
    "resolutions = [7.2, 9.0, 10.8, 12.6, 14.4]\n",
    "colors = ['violet', 'palevioletred', 'hotpink', 'mediumvioletred', 'darkred']\n",
    "\n",
    "resolution_tags_df_filtered = resolution_tags_df_sorted[resolution_tags_df_sorted['poly_box_length_mm']<=200]\n",
    "\n",
    "\n",
    "for i, resolution in enumerate(resolutions):\n",
    "    zero_rows = resolution_tags_df_filtered[resolution_tags_df_filtered[f'res_{resolution}_binary'] == 0]\n",
    "    one_rows = resolution_tags_df_filtered[resolution_tags_df_filtered[f'res_{resolution}_binary'] == 1]\n",
    "\n",
    "    # Randomly choose the same number of zero rows as the number of one rows\n",
    "    num_rows_to_choose = min(len(zero_rows), len(one_rows))\n",
    "    chosen_zero_rows = zero_rows.sample(n=num_rows_to_choose, random_state=42)\n",
    "\n",
    "    # Concatenate the chosen zero rows and one rows to create the balanced DataFrame\n",
    "    balanced_df = pd.concat([chosen_zero_rows, one_rows])\n",
    "\n",
    "    # # Shuffle the rows of the balanced DataFrame (optional)\n",
    "    # balanced_df = balanced_df.sample(frac=1, random_state=42).reset_index(drop=True)\n",
    "\n",
    "    data = {\n",
    "        'x': balanced_df['poly_box_length_mm'].values,\n",
    "        'y': balanced_df[f'res_{resolution}_binary'].values,  # y values should be between 0 and 1 for logistic curve fitting\n",
    "    }\n",
    "\n",
    "    df = pd.DataFrame(data)\n",
    "\n",
    "    # Add constant to the predictor variable for the logistic regression\n",
    "    X = sm.add_constant(df['x'])\n",
    "\n",
    "    # Fit the logistic regression model\n",
    "    logit_model = sm.Logit(df['y'], X)\n",
    "    result = logit_model.fit()\n",
    "\n",
    "    # # Print the model summary\n",
    "    print(result.summary())\n",
    "\n",
    "    # Get the fitted parameters\n",
    "    params = result.params\n",
    "    a_fit, b_fit = params\n",
    "\n",
    "    # Generate the curve based on the fitted parameters\n",
    "    x_curve = np.linspace(min(df['x']), max(df['x']), 100)\n",
    "    y_curve = 1 / (1 + np.exp(-params[0] - params[1] * x_curve))\n",
    "\n",
    "    # Plot the original data points and the fitted logistic curve\n",
    "    plt.figure(figsize=(18, 7))\n",
    "    plt.scatter(df['x'], df['y'], label='Data', color=\"black\", marker='o', alpha=0.5, s=10)\n",
    "    plt.plot(x_curve, y_curve, color=colors[i], label=f'Logistic Curve Resolution {resolution}')\n",
    "    plt.xlabel('X')\n",
    "    plt.ylabel('Y')\n",
    "    plt.title(f'res_{resolution}')\n",
    "    plt.legend()\n",
    "    plt.grid(True)\n",
    "plt.show()"
   ]
  },
  {
   "cell_type": "code",
   "execution_count": null,
   "metadata": {},
   "outputs": [],
   "source": [
    "# resolution_tags_df['poly_union_area_pixel']\n",
    "# resolution_tags_df['res_7.2']\n",
    "\n",
    "resolution_tags_df_sorted = resolution_tags_df.sort_values(by='poly_union_area_pixel')\n",
    "\n",
    "resolution_tags_df_sorted['res_7.2_binary'] = resolution_tags_df_sorted['res_7.2'].apply(lambda x: 1 if x > 0 else 0)\n",
    "resolution_tags_df_sorted['res_9.0_binary'] = resolution_tags_df_sorted['res_9.0'].apply(lambda x: 1 if x > 0 else 0)\n",
    "resolution_tags_df_sorted['res_10.8_binary'] = resolution_tags_df_sorted['res_10.8'].apply(lambda x: 1 if x > 0 else 0)\n",
    "resolution_tags_df_sorted['res_12.6_binary'] = resolution_tags_df_sorted['res_12.6'].apply(lambda x: 1 if x > 0 else 0)\n",
    "resolution_tags_df_sorted['res_14.4_binary'] = resolution_tags_df_sorted['res_14.4'].apply(lambda x: 1 if x > 0 else 0)\n",
    "\n",
    "\n",
    "plt.figure(figsize=(18, 7))\n",
    "plt.scatter(resolution_tags_df_sorted['poly_box_length_mm'], resolution_tags_df_sorted['res_14.4_binary'], marker='o', alpha=0.5, s=10)\n",
    "# plt.plot(resolution_tags_df['res_7.2'])\n",
    "\n",
    "# Add labels and title (optional)\n",
    "# plt.xlim(100, 20000)\n",
    "# plt.xlim(15000, 30000)\n",
    "\n",
    "plt.xlabel('X-axis')\n",
    "plt.ylabel('Y-axis')\n",
    "plt.title('Plotting a Curve')\n",
    "\n",
    "# Show the plot\n",
    "plt.show()\n"
   ]
  },
  {
   "cell_type": "code",
   "execution_count": null,
   "metadata": {},
   "outputs": [],
   "source": [
    "example_zoom_image_id = env.eti_api.get_matching_zoom_images([5372412])[0]\n",
    "example_zoom_image_id"
   ]
  },
  {
   "cell_type": "code",
   "execution_count": null,
   "metadata": {},
   "outputs": [],
   "source": [
    "example_zoom_image_id"
   ]
  }
 ],
 "metadata": {
  "kernelspec": {
   "display_name": "Python 3",
   "language": "python",
   "name": "python3"
  },
  "language_info": {
   "codemirror_mode": {
    "name": "ipython",
    "version": 3
   },
   "file_extension": ".py",
   "mimetype": "text/x-python",
   "name": "python",
   "nbconvert_exporter": "python",
   "pygments_lexer": "ipython3",
   "version": "3.8.10"
  },
  "orig_nbformat": 4
 },
 "nbformat": 4,
 "nbformat_minor": 2
}
